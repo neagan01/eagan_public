{
 "cells": [
  {
   "cell_type": "markdown",
   "metadata": {},
   "source": [
    "# Python for Chemical Reaction Engineering Part 4 - Logic"
   ]
  },
  {
   "cell_type": "markdown",
   "metadata": {},
   "source": [
    "Oftentimes it will be necessary to use things such as \"if,then\" statements and \"loops\" to decide actions. Here is a short crash-course. There are certainly more efficient ways to write some of these commands (like with list comprehensions), here we are focusing on legibility."
   ]
  },
  {
   "cell_type": "markdown",
   "metadata": {},
   "source": [
    "## If/then statements"
   ]
  },
  {
   "cell_type": "markdown",
   "metadata": {},
   "source": [
    "Below we will define a value for the variable \"color.\" We will then have the program print either \"that is my favorite\" if it is blue, \"that is my second favorite\" if it is green, and otherwise print \"it's a fine color but not one of my top choices.\""
   ]
  },
  {
   "cell_type": "code",
   "execution_count": 1,
   "metadata": {},
   "outputs": [
    {
     "name": "stdout",
     "output_type": "stream",
     "text": [
      "That is my favorite color!\n"
     ]
    }
   ],
   "source": [
    "color = 'green'\n",
    "\n",
    "if color == 'green':\n",
    "    print('That is my favorite color!')\n",
    "\n",
    "elif color == 'blue':\n",
    "    print('That is my second favorite color!')\n",
    "\n",
    "else:\n",
    "    print('That is a fine color, but not one of my top choices.')"
   ]
  },
  {
   "cell_type": "markdown",
   "metadata": {},
   "source": [
    "Similarly, we can choose to do different math based on logic. Here we determine whether a number is negative, zero, or positive and do different math depending on the case."
   ]
  },
  {
   "cell_type": "code",
   "execution_count": 2,
   "metadata": {},
   "outputs": [
    {
     "name": "stdout",
     "output_type": "stream",
     "text": [
      "The value is positive.\n",
      "Result:  2.0\n"
     ]
    }
   ],
   "source": [
    "var1 = 24\n",
    "\n",
    "if var1 < 0:\n",
    "    print('The value is negative.')\n",
    "    var2 = 0\n",
    "\n",
    "elif var1 == 0:\n",
    "    print('The value is zero.')\n",
    "    var2 = 6\n",
    "\n",
    "elif var1 > 0:\n",
    "    print('The value is positive.')\n",
    "    var2 = var1/12\n",
    "    \n",
    "else:\n",
    "    print('Invalid entry.')\n",
    "\n",
    "print('Result: ',var2)"
   ]
  },
  {
   "cell_type": "markdown",
   "metadata": {},
   "source": [
    "## \"For\" and \"while\" loops"
   ]
  },
  {
   "cell_type": "markdown",
   "metadata": {},
   "source": [
    "\"For\" loops allow for simple iterations. For example, you can print every element in an array in order or do math with it: "
   ]
  },
  {
   "cell_type": "code",
   "execution_count": 3,
   "metadata": {},
   "outputs": [
    {
     "name": "stdout",
     "output_type": "stream",
     "text": [
      "banana\n",
      "walrus\n",
      "new hampshire\n",
      "hippo\n",
      "1\n",
      "1\n",
      "3\n",
      "5\n",
      "9\n",
      "15\n"
     ]
    }
   ],
   "source": [
    "array_1 = ['banana','walrus','new hampshire','hippo']\n",
    "\n",
    "for i in array_1:\n",
    "    print(i)\n",
    "\n",
    "nparray_1  = [1,1,2,3,5,8]\n",
    "\n",
    "for i in nparray_1:\n",
    "    print(2*i-1)"
   ]
  },
  {
   "cell_type": "markdown",
   "metadata": {},
   "source": [
    "These are also commonly used to iterate through a range of numbers using the \"range\" function. Since Python uses \"0\" as its starting index, note that iterating through \"rannge(10)\" will go from 0 to 9"
   ]
  },
  {
   "cell_type": "code",
   "execution_count": 4,
   "metadata": {},
   "outputs": [
    {
     "name": "stdout",
     "output_type": "stream",
     "text": [
      "range(0, 10)\n",
      "0\n",
      "1\n",
      "2\n",
      "3\n",
      "4\n",
      "5\n",
      "6\n",
      "7\n",
      "8\n",
      "9\n"
     ]
    }
   ],
   "source": [
    "print(range(10))\n",
    "\n",
    "for i in range(10):\n",
    "    print(i)"
   ]
  },
  {
   "cell_type": "markdown",
   "metadata": {},
   "source": [
    "Another useful version of this takes advantage of the \"enumerate\" function, which will allow you to print both the index as you iterate through and the value. For example:"
   ]
  },
  {
   "cell_type": "code",
   "execution_count": 5,
   "metadata": {},
   "outputs": [
    {
     "name": "stdout",
     "output_type": "stream",
     "text": [
      "Index:  0  Value:  can\n",
      "Index:  1  Value:  soup\n",
      "Index:  2  Value:  banana\n"
     ]
    }
   ],
   "source": [
    "list1 = ['can','soup','banana']\n",
    "         \n",
    "for i,val in enumerate(list1):\n",
    "    print('Index: ',i,' Value: ',val)"
   ]
  },
  {
   "cell_type": "markdown",
   "metadata": {},
   "source": [
    "\"While\" loops have broader utility than \"for\" loops but run the risk of infinitely running. They will repeat the contents of a loop until a condition is met. We can basically do the same for loops as previously with a while loop by manually increasing value \"i\" with each loop. I first has to be initialized in this case. If we did not add the \"i = i + 1\" at the end, it would infinitely run."
   ]
  },
  {
   "cell_type": "code",
   "execution_count": 6,
   "metadata": {},
   "outputs": [
    {
     "name": "stdout",
     "output_type": "stream",
     "text": [
      "Index:  0  Value:  can\n",
      "Index:  1  Value:  soup\n",
      "Index:  2  Value:  banana\n"
     ]
    }
   ],
   "source": [
    "i = 0\n",
    "\n",
    "while i < len(list1):\n",
    "    val = list1[i]\n",
    "    print('Index: ',i,' Value: ',val)\n",
    "    i = i + 1\n"
   ]
  },
  {
   "cell_type": "markdown",
   "metadata": {},
   "source": [
    "Clearly we could do more than this. For example, we could evaluate all integers with squares less than 386 (because reasons):"
   ]
  },
  {
   "cell_type": "code",
   "execution_count": 7,
   "metadata": {},
   "outputs": [
    {
     "name": "stdout",
     "output_type": "stream",
     "text": [
      "Integer:  0  Squared:  0\n",
      "Integer:  1  Squared:  1\n",
      "Integer:  2  Squared:  4\n",
      "Integer:  3  Squared:  9\n",
      "Integer:  4  Squared:  16\n",
      "Integer:  5  Squared:  25\n",
      "Integer:  6  Squared:  36\n",
      "Integer:  7  Squared:  49\n",
      "Integer:  8  Squared:  64\n",
      "Integer:  9  Squared:  81\n",
      "Integer:  10  Squared:  100\n",
      "Integer:  11  Squared:  121\n",
      "Integer:  12  Squared:  144\n",
      "Integer:  13  Squared:  169\n",
      "Integer:  14  Squared:  196\n",
      "Integer:  15  Squared:  225\n",
      "Integer:  16  Squared:  256\n",
      "Integer:  17  Squared:  289\n",
      "Integer:  18  Squared:  324\n",
      "Integer:  19  Squared:  361\n"
     ]
    }
   ],
   "source": [
    "i = 0\n",
    "sqrval= 0\n",
    "\n",
    "while sqrval < 386:\n",
    "    sqrval = i**2\n",
    "    print('Integer: ',i,' Squared: ',sqrval)\n",
    "    i = i + 1\n",
    "    sqrval = i**2\n"
   ]
  },
  {
   "cell_type": "markdown",
   "metadata": {},
   "source": [
    "Combining this with logic, we could identify only the even numbers in this pattern. We use the % operator to compute the remainder of a value to do this:"
   ]
  },
  {
   "cell_type": "code",
   "execution_count": 8,
   "metadata": {},
   "outputs": [
    {
     "name": "stdout",
     "output_type": "stream",
     "text": [
      "Integer:  0  Squared:  0\n",
      "Integer:  2  Squared:  4\n",
      "Integer:  4  Squared:  16\n",
      "Integer:  6  Squared:  36\n",
      "Integer:  8  Squared:  64\n",
      "Integer:  10  Squared:  100\n",
      "Integer:  12  Squared:  144\n",
      "Integer:  14  Squared:  196\n",
      "Integer:  16  Squared:  256\n",
      "Integer:  18  Squared:  324\n"
     ]
    }
   ],
   "source": [
    "i = 0\n",
    "sqrval= 0\n",
    "\n",
    "while sqrval < 386:\n",
    "    sqrval = i**2\n",
    "\n",
    "    if i%2 == 0:\n",
    "        print('Integer: ',i,' Squared: ',sqrval)\n",
    "\n",
    "    i = i + 1\n",
    "    sqrval = i**2"
   ]
  },
  {
   "cell_type": "code",
   "execution_count": null,
   "metadata": {},
   "outputs": [],
   "source": []
  }
 ],
 "metadata": {
  "kernelspec": {
   "display_name": "Python 3 (ipykernel)",
   "language": "python",
   "name": "python3"
  },
  "language_info": {
   "codemirror_mode": {
    "name": "ipython",
    "version": 3
   },
   "file_extension": ".py",
   "mimetype": "text/x-python",
   "name": "python",
   "nbconvert_exporter": "python",
   "pygments_lexer": "ipython3",
   "version": "3.10.9"
  }
 },
 "nbformat": 4,
 "nbformat_minor": 2
}
