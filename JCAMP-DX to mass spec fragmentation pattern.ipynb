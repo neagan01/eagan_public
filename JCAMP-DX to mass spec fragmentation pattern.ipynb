{
 "cells": [
  {
   "cell_type": "markdown",
   "metadata": {},
   "source": [
    "# JCAMP-DX to mass spec fragmentation pattern"
   ]
  },
  {
   "cell_type": "code",
   "execution_count": 20,
   "metadata": {},
   "outputs": [
    {
     "data": {
      "image/png": "[encoded data removed]",
      "text/plain": [
       "<Figure size 640x480 with 1 Axes>"
      ]
     },
     "metadata": {},
     "output_type": "display_data"
    }
   ],
   "source": [
    "import numpy as np\n",
    "import pandas as pd\n",
    "import matplotlib.pyplot as plt\n",
    "\n",
    "filename = \"124-38-9-Mass.jdx\"\n",
    "filename_out = filename.replace('.jdx','')\n",
    "\n",
    "frag_flag = 0\n",
    "comm_flag = 1\n",
    "\n",
    "mz = []\n",
    "mzother = []\n",
    "\n",
    "with open(filename) as file:\n",
    "    for line in file:\n",
    "        if '##TITLE' in line:\n",
    "            name = line.replace('##TITLE=','')\n",
    "            name = name.replace('\\n','')\n",
    "        if '##' in line:\n",
    "            frag_flag=0\n",
    "        if frag_flag == 1:\n",
    "            mz=mz+line.split()\n",
    "        if 'PEAK TABLE' in line:\n",
    "            frag_flag=1\n",
    "\n",
    "mz_array = np.zeros([len(mz),2])\n",
    "\n",
    "for i,val in enumerate(mz):\n",
    "    mz_array[i] = val.split(\",\")\n",
    "    \n",
    "mz_array[:,1] = mz_array[:,1]/mz_array[:,1].max()*100 \n",
    "\n",
    "df = pd.DataFrame(mz_array,columns=['m/z','rel signal'])\n",
    "\n",
    "filename_out = 'frag_' + name + '_' + filename_out + '.csv'\n",
    "\n",
    "df.to_csv(filename_out)\n",
    "    \n",
    "plt.vlines(mz_array[:,0],mz_array[:,1],ymax=0)\n",
    "plt.xlabel('m/z')\n",
    "plt.ylabel('Relative Signal (a.u.)')\n",
    "\n",
    "plt.show()"
   ]
  },
  {
   "cell_type": "code",
   "execution_count": 7,
   "metadata": {},
   "outputs": [
    {
     "data": {
      "text/plain": [
       "'Carbon dioxide'"
      ]
     },
     "execution_count": 7,
     "metadata": {},
     "output_type": "execute_result"
    }
   ],
   "source": [
    "name"
   ]
  },
  {
   "cell_type": "code",
   "execution_count": null,
   "metadata": {},
   "outputs": [],
   "source": [
    "##TITLE=Methyl Alcohol"
   ]
  }
 ],
 "metadata": {
  "kernelspec": {
   "display_name": "Python 3",
   "language": "python",
   "name": "python3"
  },
  "language_info": {
   "codemirror_mode": {
    "name": "ipython",
    "version": 3
   },
   "file_extension": ".py",
   "mimetype": "text/x-python",
   "name": "python",
   "nbconvert_exporter": "python",
   "pygments_lexer": "ipython3",
   "version": "3.10.9"
  },
  "varInspector": {
   "cols": {
    "lenName": 16,
    "lenType": 16,
    "lenVar": 40
   },
   "kernels_config": {
    "python": {
     "delete_cmd_postfix": "",
     "delete_cmd_prefix": "del ",
     "library": "var_list.py",
     "varRefreshCmd": "print(var_dic_list())"
    },
    "r": {
     "delete_cmd_postfix": ") ",
     "delete_cmd_prefix": "rm(",
     "library": "var_list.r",
     "varRefreshCmd": "cat(var_dic_list()) "
    }
   },
   "types_to_exclude": [
    "module",
    "function",
    "builtin_function_or_method",
    "instance",
    "_Feature"
   ],
   "window_display": false
  }
 },
 "nbformat": 4,
 "nbformat_minor": 4
}
