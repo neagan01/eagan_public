{
 "cells": [
  {
   "cell_type": "markdown",
   "id": "dfaadcb5",
   "metadata": {},
   "source": [
    "# Python for Chemical Reaction Engineering Part 1 - What is Python\n",
    "[![Open In Studio Lab](https://studiolab.sagemaker.aws/studiolab.svg)](https://studiolab.sagemaker.aws/import/github/neagan01/eagan_public/blob/master/Python_for_CRE_Part_1_-_What_is_Python.ipynb)"
   ]
  },
  {
   "cell_type": "markdown",
   "id": "a5c859cc",
   "metadata": {},
   "source": [
    "You don't need to know everything about Python for this class, but there are several key things to know. Some of them are essential while others will simply make your life easier. At the time of writing this, MATLAB is a bit more common than Python in the chemical engineering curriculum, so I will also emphasize the differences below."
   ]
  },
  {
   "cell_type": "markdown",
   "id": "5b8a4593",
   "metadata": {},
   "source": [
    "## What is Python?"
   ]
  },
  {
   "cell_type": "markdown",
   "id": "90886406",
   "metadata": {},
   "source": [
    "Python is a high-level computing language which prioritizes human readibility. It does not on its own include much \"functionality\" since it is simply a \"language.\" In order to use Python, you will need \"packages\" which consist of codes written in Python and other languages that allow you to do more complex work such as high-level math, plotting, data sorting, etc."
   ]
  },
  {
   "cell_type": "markdown",
   "id": "1ee32166",
   "metadata": {},
   "source": [
    "## How is this different from MATLAB?"
   ]
  },
  {
   "cell_type": "markdown",
   "id": "0a209fca",
   "metadata": {},
   "source": [
    "Many in chemical engineering who are new to Python are transitioning from MATLAB, the main software originally introduced throughout the curriculum. MATLAB is different from Python in a few key ways. MATLAB and Python are both computing languages, but a MATLAB download comes with its own set of packages and its own interface. Python, on the other hand, is only a computing language. It is used with a range of customized packages and various interfaces known as \"integrated development environments,\" or IDEs. Popular IDE choices include Spyder (which has a fairly MATLAB-esque feel), Jupyter Notebooks (which allows for codes to be provided alongside outputs and interchanged with long text blocks), JupyterLab (an evolution of Jupyter Notebook which brings multiple utilities together), Visual Studio Code (which is similar to JupyterLab but with broader utility), PyCharm, IDLE, Atom, and Thonny."
   ]
  },
  {
   "cell_type": "markdown",
   "id": "26ccb690",
   "metadata": {},
   "source": [
    "## What are some pros and cons of Python compared to MATLAB?"
   ]
  },
  {
   "cell_type": "markdown",
   "id": "9dd90ef5",
   "metadata": {},
   "source": [
    "The simplest benefit of Python is that it is free, while MATLAB requires a license which can cost as much as $2,000 or more unless you have lower-cost access through a university.\n",
    "\n",
    "One key difference that has both pros and cons is that Python is not really \"built for\" anything other than being \"intuitive.\" MATLAB, on the other hand, is built deliberately for mathematical work and in many ways more directly useful for solving chemical engineering problems. Python is instead commonly used for not only computation/data science but also for software development, website creation, design, etc. When you are stuck and need help with a certain task, MATLAB's thorough documentation can be a plus. The fact that Python is \"open-source\" makes the documentation de-localized, but many packages still have thorough details online. Furthermore, there is a large community of Python users which discuss challenges and solutions openly on forums such as Stack Overflow.\n",
    "\n",
    "The major \"pro\" for Python that comes from these facts is its adaptability. Those who learn Python can use it anywhere, while those who use MATLAB have to hope they can find a license (or pay for one) to use it. Furthermore, those who learn how to work with Python can apply their knowledge to problems outside the traditional chemical engineering scope. Such skills could enhance communication, foster collaboration, or facilitate a role transition.\n",
    "\n",
    "All of these benefits are very clearly understood by the broader community. The TIOBE organization specializes in evaluating software quality and as of 2023 ranked Python the #1 programming language while MATLAB is listed at only #13 (https://www.tiobe.com/tiobe-index/). The 2022 Stack Overflow Developer Survey finds that Python is the 4th most commonly used language, while MATLAB is 22nd. Other languages of note include Java, JavaScript, C, C++, HTML, and SQL."
   ]
  },
  {
   "cell_type": "markdown",
   "id": "f52e4f94",
   "metadata": {},
   "source": [
    "## Do I need to care about the Python version?"
   ]
  },
  {
   "cell_type": "markdown",
   "id": "307ec40e",
   "metadata": {},
   "source": [
    "Yes. While some syntax is the same between different versions, some can vary drastically. A slightly older Python 2 code will likely not function the same way if run in Python 3 Fortunately, you can create a Python 2 environment if you want to run a Python 2 code. This can be done in Anaconda, for example."
   ]
  },
  {
   "cell_type": "markdown",
   "id": "2930dca2",
   "metadata": {},
   "source": [
    "## Where should I start?"
   ]
  },
  {
   "cell_type": "markdown",
   "id": "9fc60cf2",
   "metadata": {},
   "source": [
    "A good place to start is Anaconda.com. Anaconda is a \"distribution\" of Python meaning that it includes the code, packages, IDEs, and various utilities to manage packages. The installation is free.\n",
    "\n",
    "Once you download Anaconda, it is best to start with some of their simple tutorials. One will be added here eventually. If you are coming from MATLAB, it may be best to start with Spyder. If you want to experience \"literate\" programming, Jupyter Notebooks or JupyterLab are good places to start. I prefer Visual Studio Code, which is similar to JupyterLab but more broadly useful.\n",
    "\n",
    "**Important note:** there are likely multiple different Python environments on your computer between the one Anaconda installs, one you or another may have installed, or ones that computer programs create for their own uses. Programs downloaded through Anaconda (including Anaconda Prompt) will activate your Anaconda environment naturally, otherwise you will have to activate it separately as noted in Part 2."
   ]
  },
  {
   "cell_type": "markdown",
   "id": "f3da096b",
   "metadata": {},
   "source": [
    "## What packages do I absolutely need?"
   ]
  },
  {
   "cell_type": "markdown",
   "id": "3a46eede",
   "metadata": {},
   "source": [
    "Here are some essentials for chemical engineering work:\n",
    "\n",
    "- **NumPy**: Numerical Python. Arrays, matrices, numerical operations.\n",
    "- **SciPy**: Scientific algorithms like derivatives, optimization, etc.\n",
    "- **MatPlotLib**: The most basic plotting package.\n",
    "\n",
    "Here are some others that can be very helpful:\n",
    "\n",
    "- **Pandas**: Data structures that allow for data to be easily sorted, manipulated, imported, and exported.\n",
    "- **Plotly**: Make interactive plots with greater functionality."
   ]
  },
  {
   "cell_type": "markdown",
   "id": "20852fbe",
   "metadata": {},
   "source": [
    "## Which Python programs will I use most when translating from MATLAB?"
   ]
  },
  {
   "cell_type": "markdown",
   "id": "aee4ff0a",
   "metadata": {},
   "source": [
    "| MATLAB | Python |\n",
    "| :--- |:---|\n",
    "| matrices | numpy.array |\n",
    "| plot | matplotlib.pyplot |\n",
    "| function | def |\n",
    "| ode45 | scipy.integrate.solve_ivp(...method='RK45')|\n",
    "| fsolve | scipy.optimize.fsolve |\n",
    "| nlinfit | scipy.optimize.curve_fit |\n",
    "| fprintf | print |"
   ]
  },
  {
   "cell_type": "markdown",
   "id": "a86de0da",
   "metadata": {},
   "source": [
    "## How do I install packages?"
   ]
  },
  {
   "cell_type": "markdown",
   "id": "7b36186f",
   "metadata": {},
   "source": [
    "The easiest way to install packages is through Anaconda. Open the Anaconda Navigator and click on \"Environments\" in the left panel. You can create multiple environments, but should generally stick with the \"base (root)\" environment for simplicity. With the desired environment selected, the packages installed are shown at the right. The most important packages are numpy, matplotlib, scipy, and pandas. These will likely be installed by default. You can easily install others in here by selecting \"not installed\" and then searching. This does not contain all possible packages, just major ones according to Anaconda.\n",
    "\n",
    "Packages not shown in the Anaconda Navigator can be installed through \"pip\" or \"conda\" using commands such as \"conda install -c conda-forge pybaselines\"; read the documentation for the package of interest for specifics. This installation should be done in Anaconda Prompt or a terminal where your Python distribution has been loaded.\n",
    "\n",
    "Note that when you choose an environment, you can choose not only a specific Python version, you can also choose specific versions of each package. This can be helpful when compatability issues arise."
   ]
  },
  {
   "cell_type": "markdown",
   "id": "9560e1f7",
   "metadata": {},
   "source": [
    "## How do I use packages?\n",
    "\n",
    "The first requirement is that the package is downloaded as noted above. The second requirement is that **the whole package *or* just part of the package must be imported within the file you are using.** Once it has been imported, it can be accessed anywhere in the file."
   ]
  },
  {
   "cell_type": "code",
   "execution_count": null,
   "id": "5279c7b2",
   "metadata": {},
   "outputs": [],
   "source": []
  }
 ],
 "metadata": {
  "kernelspec": {
   "display_name": "Python 3 (ipykernel)",
   "language": "python",
   "name": "python3"
  },
  "language_info": {
   "codemirror_mode": {
    "name": "ipython",
    "version": 3
   },
   "file_extension": ".py",
   "mimetype": "text/x-python",
   "name": "python",
   "nbconvert_exporter": "python",
   "pygments_lexer": "ipython3",
   "version": "3.10.9"
  },
  "varInspector": {
   "cols": {
    "lenName": 16,
    "lenType": 16,
    "lenVar": 40
   },
   "kernels_config": {
    "python": {
     "delete_cmd_postfix": "",
     "delete_cmd_prefix": "del ",
     "library": "var_list.py",
     "varRefreshCmd": "print(var_dic_list())"
    },
    "r": {
     "delete_cmd_postfix": ") ",
     "delete_cmd_prefix": "rm(",
     "library": "var_list.r",
     "varRefreshCmd": "cat(var_dic_list()) "
    }
   },
   "types_to_exclude": [
    "module",
    "function",
    "builtin_function_or_method",
    "instance",
    "_Feature"
   ],
   "window_display": false
  }
 },
 "nbformat": 4,
 "nbformat_minor": 5
}
