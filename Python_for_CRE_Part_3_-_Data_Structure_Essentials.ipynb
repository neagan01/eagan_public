{
 "cells": [
  {
   "cell_type": "markdown",
   "id": "a524db8d",
   "metadata": {},
   "source": [
    "# Python for Chemical Reaction Engineering Part 3 - Data Structure Essentials\n",
    "[![Open In Studio Lab](https://studiolab.sagemaker.aws/studiolab.svg)](https://studiolab.sagemaker.aws/import/github/neagan01/eagan_public/blob/master/Python_for_CRE_Part_3_-_Data_Structure_Essentials.ipynb)"
   ]
  },
  {
   "cell_type": "markdown",
   "id": "7852c917",
   "metadata": {},
   "source": [
    "Data can be manipulated in different formats. There are many ways to do this, and they can be a bit tricky to handle"
   ]
  },
  {
   "cell_type": "markdown",
   "id": "9c54c8ef",
   "metadata": {},
   "source": [
    "## Basic data types\n",
    "\n",
    "The three basic types of data:\n",
    "- **Scalars** are single values\n",
    "- **Strings** are single sets of letters\n",
    "- **Data structures** are sets of scalars and strings\n",
    "\n",
    "### Scalars\n",
    "\n",
    "This is a single value and can full under a few different *types*:\n",
    "\n",
    "- **int** refers to an integer. **Examples:** 1, 42, 1571\n",
    "- **float** is a floating doint decimal approximation of a value. This is often what we work with. **Examples:** 1.0, 3.14159,20.11111\n",
    "- **complex** refers to complex numbers that have an imaginary part. **Examples:** 4.2 + 6i. *Note: Python displays a 'j' instead of an 'i'*\n",
    "\n",
    "### Strings\n",
    "\n",
    "**str** refers to a 'string' of characters. These are declared in Python with single, double, or triple quotes. Often it will not matter which convention you use, but there are specific exceptions. Technically a string is not a 'scalar,' but for simplicity  **Examples:** 'A',\"Penguin\",''''Kevin the Penguin'''\n",
    "\n",
    "Another data type that is sort of an integer and sort of a string is a Boolean or **bool**. This is a binary entity which can either be 'True' or 'False.' In Python we can also not that True=1 and False=0 or [].\n",
    "\n",
    "### Data structures\n",
    "\n",
    "Oftentimes we will work with collections of scalars or strings. There are ***many*** ways to organize and manipulate data, all with major or subtle pros and cons. We will only use a few:\n",
    "\n",
    "- **Lists** are the default data structure. They are built into the basic programming of Python. A list is **indexed**, meaning that each element has an assigned index value, **ordered** meaning that the precise order of these indices is important, and **mutable**, meaning that the contents can be changed after creation. These can contain scalars or strings or both. It is also possible to add or remove entries with certain commands.\n",
    "- **Tuples** are like lists, but they are **immutable** meaning they can not be altered after creation-they can only be overwritten.\n",
    "- **Dictionaries** are like lists but are **not ordered** and inlcude **keys** that can be used to access complex data with words rather than indices. A simple usage could be to create an atomic masses dictionary. Accessing the 'rhenium' entry could return 186.207.\n",
    "- **Numpy arrays** are mathematical arrays like those used by default in MATLAB and are **what we do most of our math with.** These are very similar to lists but are better suited for mathematical operations. They can have **multiple dimensions** and therefore also represent matrices. To use a numpy array, you have to first import the numpy package.\n",
    "- **Pandas dataframes** are sort of a hybrid between dictionaries and numpy arrays. They allow for easy, fast math with large sets of indexed data, and the data can be easily manipulated. We might create, for example, a dataframe containing columns of reaction times, conversions, concentrations, and selectivities. We can use these to quickly find the selectivity of a specific species at a specific time or even the selectivity of a species at a certain conversion.\n"
   ]
  },
  {
   "cell_type": "markdown",
   "id": "989e6e36",
   "metadata": {},
   "source": [
    "## Working with data"
   ]
  },
  {
   "cell_type": "markdown",
   "id": "815461cf",
   "metadata": {},
   "source": [
    "### Defining and displaying values\n",
    "\n",
    "When a variable is first defined, the convention is simple-write the variable name, an equals sign, and then the value. To set x equal to 4 type:"
   ]
  },
  {
   "cell_type": "code",
   "execution_count": 1,
   "id": "e806294e",
   "metadata": {},
   "outputs": [],
   "source": [
    "x = 4"
   ]
  },
  {
   "cell_type": "markdown",
   "id": "d1e1e933",
   "metadata": {},
   "source": [
    "If you then end a code block with simply the name of the variable, it will print by default. If it is not the last line and you want to print the output, you can do so with the 'print' command:"
   ]
  },
  {
   "cell_type": "code",
   "execution_count": 2,
   "id": "d5eb8c0a",
   "metadata": {},
   "outputs": [
    {
     "name": "stdout",
     "output_type": "stream",
     "text": [
      "4\n"
     ]
    }
   ],
   "source": [
    "print(x)"
   ]
  },
  {
   "cell_type": "markdown",
   "id": "39c9c3b3",
   "metadata": {},
   "source": [
    "You can add a line break with '\\n'. Doing this more than once will add more than one line. By default, adding a new 'print' command will move you to the next line, so adding '\\n' to the beginning adds a blank row between the previous statment and the current one:"
   ]
  },
  {
   "cell_type": "code",
   "execution_count": 3,
   "id": "e433862f",
   "metadata": {},
   "outputs": [
    {
     "name": "stdout",
     "output_type": "stream",
     "text": [
      "\n",
      " 4 \n",
      "\n",
      " 4 \n",
      "\n",
      "\n",
      " 4\n"
     ]
    }
   ],
   "source": [
    "print('\\n',x,'\\n\\n',x,'\\n\\n\\n',x)"
   ]
  },
  {
   "cell_type": "markdown",
   "id": "0e1193b8",
   "metadata": {},
   "source": [
    "You can combine this with text like so:"
   ]
  },
  {
   "cell_type": "code",
   "execution_count": 6,
   "id": "e86f8b58",
   "metadata": {},
   "outputs": [
    {
     "name": "stdout",
     "output_type": "stream",
     "text": [
      "\n",
      " The value of x is 4\n"
     ]
    }
   ],
   "source": [
    "print('\\n The value of x is',x)"
   ]
  },
  {
   "cell_type": "markdown",
   "id": "7636b5cc",
   "metadata": {},
   "source": [
    "To control the number of decimals, you can write it like this:"
   ]
  },
  {
   "cell_type": "code",
   "execution_count": 16,
   "id": "91150f94",
   "metadata": {},
   "outputs": [
    {
     "name": "stdout",
     "output_type": "stream",
     "text": [
      "\n",
      " The value of x with 4 decimals is 4.0000\n"
     ]
    }
   ],
   "source": [
    "print('\\n The value of x with 4 decimals is','{:.4f}'.format(x))"
   ]
  },
  {
   "cell_type": "markdown",
   "id": "d03754bb",
   "metadata": {},
   "source": [
    "We can now either redefine this variable or generate new ones from it."
   ]
  },
  {
   "cell_type": "code",
   "execution_count": 17,
   "id": "05660a02",
   "metadata": {},
   "outputs": [
    {
     "name": "stdout",
     "output_type": "stream",
     "text": [
      "\n",
      " x is now 42 and y is now 85\n"
     ]
    }
   ],
   "source": [
    "x = 42\n",
    "y = 2*x+1\n",
    "print('\\n x is now',x,'and y is now',y)"
   ]
  },
  {
   "cell_type": "markdown",
   "id": "138d7f1c",
   "metadata": {},
   "source": [
    "We define strings using quotations. When we add them together we get a new string where everything is stuck together:"
   ]
  },
  {
   "cell_type": "code",
   "execution_count": 21,
   "id": "50a93f39",
   "metadata": {},
   "outputs": [
    {
     "name": "stdout",
     "output_type": "stream",
     "text": [
      "\n",
      " Chemical + Engineering = ChemicalEngineering\n"
     ]
    }
   ],
   "source": [
    "string_1 = 'Chemical'\n",
    "string_2 = 'Engineering'\n",
    "string_3 = string_1 + string_2\n",
    "print('\\n',string_1,'+',string_2,'=',string_3)"
   ]
  },
  {
   "cell_type": "markdown",
   "id": "f771fd3f",
   "metadata": {},
   "source": [
    "Note that a space was not automatically created. We would need to add a ' ' string in between to do so."
   ]
  },
  {
   "cell_type": "markdown",
   "id": "9f0b0395",
   "metadata": {},
   "source": [
    "### Working with lists and tuples\n",
    "\n",
    "First we will talk about creating these. We will make one version of each that just has [10,20,30,40]."
   ]
  },
  {
   "cell_type": "code",
   "execution_count": 39,
   "id": "35c81e77",
   "metadata": {},
   "outputs": [],
   "source": [
    "x = 4\n",
    "x_list = [10,20,30,40]\n",
    "x_tuple = (10,20,30,40)"
   ]
  },
  {
   "cell_type": "markdown",
   "id": "7f5aa182",
   "metadata": {},
   "source": [
    "Notice that a list uses square brackets and a tuple uses round brackets.\n",
    "\n",
    "We can determine the type of any data using the \"type\" command:"
   ]
  },
  {
   "cell_type": "code",
   "execution_count": 42,
   "id": "58072e83",
   "metadata": {},
   "outputs": [
    {
     "name": "stdout",
     "output_type": "stream",
     "text": [
      "\n",
      " x is a <class 'int'>\n",
      "\n",
      " x_list is a <class 'list'>\n",
      "\n",
      " x_tuple is a <class 'tuple'>\n"
     ]
    }
   ],
   "source": [
    "print('\\n x is a',type(x))\n",
    "print('\\n x_list is a',type(x_list))\n",
    "print('\\n x_tuple is a',type(x_tuple))"
   ]
  },
  {
   "cell_type": "markdown",
   "id": "503b111e",
   "metadata": {},
   "source": [
    "Now it is important to understand **indexing**. The **Python convention is to start with index 0 rather than 1**, in constrast to some other languages such as MATLAB. To find the first element, use square brackets and select element 0. The second would be element 1. The final is noted as -1 regardless of length, and nth-to-last would be -n:"
   ]
  },
  {
   "cell_type": "code",
   "execution_count": 38,
   "id": "a0ba43f3",
   "metadata": {},
   "outputs": [
    {
     "name": "stdout",
     "output_type": "stream",
     "text": [
      "\n",
      " The first element of [10, 20, 30, 40]  is 10\n",
      "\n",
      " The second element of (10, 20, 30, 40)  is 20\n",
      "\n",
      " The final element of (10, 20, 30, 40)  is 40\n",
      "\n",
      " The second-to-last element of (10, 20, 30, 40)  is 30\n"
     ]
    }
   ],
   "source": [
    "print('\\n The first element of',x_list,' is',x_list[0])\n",
    "print('\\n The second element of',x_tuple,' is',x_tuple[1])\n",
    "print('\\n The final element of',x_tuple,' is',x_tuple[-1])\n",
    "print('\\n The second-to-last element of',x_tuple,' is',x_tuple[-2])"
   ]
  },
  {
   "cell_type": "markdown",
   "id": "cbb1e0ea",
   "metadata": {},
   "source": [
    "The value of an element can be reassigned in a list but not in a tuple. For example, the third element (index 2) of the list can be changed to 100 as follows:"
   ]
  },
  {
   "cell_type": "code",
   "execution_count": 40,
   "id": "956a354c",
   "metadata": {},
   "outputs": [
    {
     "name": "stdout",
     "output_type": "stream",
     "text": [
      "\n",
      " Now x_list is [10, 20, 100, 40]\n"
     ]
    }
   ],
   "source": [
    "x_list[2] = 100\n",
    "print('\\n Now x_list is',x_list)"
   ]
  },
  {
   "cell_type": "markdown",
   "id": "6aa4e2f5",
   "metadata": {},
   "source": [
    "The same command for the tuple will not work.\n",
    "\n",
    "To add an element to a list, you can use **append**. Python sometimes uses **dot notation** to access **methods** like this. For example, we can add a fifth element equal to 45 to the list as follows:"
   ]
  },
  {
   "cell_type": "code",
   "execution_count": 41,
   "id": "72decd33",
   "metadata": {},
   "outputs": [
    {
     "name": "stdout",
     "output_type": "stream",
     "text": [
      "\n",
      " Now x_list is [10, 20, 100, 40, 45]\n"
     ]
    }
   ],
   "source": [
    "x_list.append(45)\n",
    "print('\\n Now x_list is',x_list)"
   ]
  },
  {
   "cell_type": "markdown",
   "id": "811bae97",
   "metadata": {},
   "source": [
    "You can also insert elements. For example, we can insert a '4' in the third element (index=2):"
   ]
  },
  {
   "cell_type": "code",
   "execution_count": 43,
   "id": "24febc8d",
   "metadata": {},
   "outputs": [
    {
     "name": "stdout",
     "output_type": "stream",
     "text": [
      "\n",
      " Now x_list is [10, 20, 4, 100, 40, 45]\n"
     ]
    }
   ],
   "source": [
    "x_list.insert(2,4)\n",
    "print('\\n Now x_list is',x_list)"
   ]
  },
  {
   "cell_type": "markdown",
   "id": "1f3bfe7c",
   "metadata": {},
   "source": [
    "If you add two lists together, it just stacks them on top of each other. For example, adding list_1=[1,2,3] to list_2=[,40,50,60] could give either [1,2,3,40,50,60] or [40,50,60,1,2,3] depending on the order:"
   ]
  },
  {
   "cell_type": "code",
   "execution_count": 44,
   "id": "d5fd6d6f",
   "metadata": {},
   "outputs": [
    {
     "name": "stdout",
     "output_type": "stream",
     "text": [
      "\n",
      " list_1 + list2 = [1, 2, 3, 40, 50, 60]\n",
      "\n",
      " list_2 + list1 = [40, 50, 60, 1, 2, 3]\n"
     ]
    }
   ],
   "source": [
    "list_1 = [1,2,3]\n",
    "list_2 = [40,50,60]\n",
    "print('\\n list_1 + list2 =',list_1+list_2)\n",
    "print('\\n list_2 + list1 =',list_2+list_1)"
   ]
  },
  {
   "cell_type": "markdown",
   "id": "c4e60b5c",
   "metadata": {},
   "source": [
    "Notice that no math was done in any of this. We could have used strings instead. For example:"
   ]
  },
  {
   "cell_type": "code",
   "execution_count": 45,
   "id": "42020ec8",
   "metadata": {},
   "outputs": [
    {
     "name": "stdout",
     "output_type": "stream",
     "text": [
      "\n",
      " list_strings_1 = ['ethanol', '1-butanol', '1-hexanol']\n",
      "\n",
      " list_strings_2 = ['1-octanol', '1-decanol']\n",
      "\n",
      " list_strings_1 + list_strings_2 = ['ethanol', '1-butanol', '1-hexanol', '1-octanol', '1-decanol']\n"
     ]
    }
   ],
   "source": [
    "list_strings_1 = ['ethanol','1-butanol','1-hexanol']\n",
    "list_strings_2 = ['1-octanol','1-decanol']\n",
    "print('\\n list_strings_1 =',list_strings_1)\n",
    "print('\\n list_strings_2 =',list_strings_2)\n",
    "print('\\n list_strings_1 + list_strings_2 =',list_strings_1+list_strings_2)"
   ]
  },
  {
   "cell_type": "markdown",
   "id": "93b2df0c",
   "metadata": {},
   "source": [
    "The length of an array can be determined with the **len()** function:"
   ]
  },
  {
   "cell_type": "code",
   "execution_count": 46,
   "id": "bebadeba",
   "metadata": {},
   "outputs": [
    {
     "name": "stdout",
     "output_type": "stream",
     "text": [
      "\n",
      " The length of  [10, 20, 4, 100, 40, 45]  is 6\n"
     ]
    }
   ],
   "source": [
    "print('\\n The length of ',x_list,' is',len(x_list))"
   ]
  },
  {
   "cell_type": "markdown",
   "id": "565d615f",
   "metadata": {},
   "source": [
    "### Working with numpy arrays\n",
    "\n",
    "Many Python-based numerical evaluations involve numpy arrays. To use them, you first have to import numpy. It is conventional to import it 'as np' so that you can write 'np' instead of 'numpy' when you want to use it. This is done as follows:"
   ]
  },
  {
   "cell_type": "code",
   "execution_count": 48,
   "id": "b010f3fd",
   "metadata": {},
   "outputs": [],
   "source": [
    "import numpy as np"
   ]
  },
  {
   "cell_type": "markdown",
   "id": "c9fd6755",
   "metadata": {
    "tags": []
   },
   "source": [
    "Once imported, you can define a numpy array from a list. Two ways of getting to the same numpy array containing [10,20,30,40] are as follows:"
   ]
  },
  {
   "cell_type": "code",
   "execution_count": 49,
   "id": "45480c06",
   "metadata": {},
   "outputs": [
    {
     "name": "stdout",
     "output_type": "stream",
     "text": [
      "Method 1 gives: [10 20 30 40]\n",
      "Method 2 gives: [10 20 30 40]\n"
     ]
    }
   ],
   "source": [
    "x_list = [10,20,30,40]\n",
    "array_1 = np.array(x_list)\n",
    "array_2 = np.array([10,20,30,40])\n",
    "print('Method 1 gives:',array_1)\n",
    "print('Method 2 gives:',array_2)"
   ]
  },
  {
   "cell_type": "markdown",
   "id": "0dca510d",
   "metadata": {},
   "source": [
    "It is important to note, however, that these are *neither* row *nor* column vectors as written. These are purely \"one-dimensional\" and are not technically 1x4 arrays but rather 0x4 arrays. This can cause problems when doing math. To specify an array as a **row vector**, add another set of brackets:"
   ]
  },
  {
   "cell_type": "code",
   "execution_count": 64,
   "id": "c99cee04",
   "metadata": {},
   "outputs": [
    {
     "name": "stdout",
     "output_type": "stream",
     "text": [
      "A 1D row vector of the array is:\n",
      " [[10 20 30 40]]\n"
     ]
    }
   ],
   "source": [
    "array_1_row = np.array([[10,20,30,40]])\n",
    "print('A 1D row vector of the array is:\\n', array_1_row)"
   ]
  },
  {
   "cell_type": "markdown",
   "id": "6299fd9a",
   "metadata": {},
   "source": [
    "A **column vector** is most easily created by making the **tranpose** of a row vector using the **.T** method:"
   ]
  },
  {
   "cell_type": "code",
   "execution_count": 54,
   "id": "e19ac715",
   "metadata": {},
   "outputs": [
    {
     "name": "stdout",
     "output_type": "stream",
     "text": [
      "A 1D column vector of array is:\n",
      " [[10]\n",
      " [20]\n",
      " [30]\n",
      " [40]]\n"
     ]
    }
   ],
   "source": [
    "array_1_column = np.array([[10,20,30,40]]).T\n",
    "print('A 1D column vector of array is:\\n', array_1_column)"
   ]
  },
  {
   "cell_type": "markdown",
   "id": "0d9fe8ce",
   "metadata": {},
   "source": [
    "These can all be distinguished by their **shapes**:"
   ]
  },
  {
   "cell_type": "code",
   "execution_count": 55,
   "id": "9da2fc96",
   "metadata": {},
   "outputs": [
    {
     "name": "stdout",
     "output_type": "stream",
     "text": [
      "The shape of  [10 20 30 40] is  (4,)\n",
      "The shape of  [[10 20 30 40]] is  (1, 4)\n",
      "The shape of  [[10]\n",
      " [20]\n",
      " [30]\n",
      " [40]] is  (4, 1)\n"
     ]
    }
   ],
   "source": [
    "print('The shape of ',array_1,'is ',np.shape(array_1))\n",
    "print('The shape of ',array_1_row,'is ',np.shape(array_1_row))\n",
    "print('The shape of ',array_1_column,'is ',np.shape(array_1_column))"
   ]
  },
  {
   "cell_type": "markdown",
   "id": "c15d5460",
   "metadata": {},
   "source": [
    "These can be easily interconverted using \"**reshape**:\""
   ]
  },
  {
   "cell_type": "code",
   "execution_count": 56,
   "id": "44138b77",
   "metadata": {},
   "outputs": [
    {
     "name": "stdout",
     "output_type": "stream",
     "text": [
      "Original array:  [10 20 30 40]\n",
      "Horizontal array: [[10 20 30 40]]\n",
      "Vertical array: [[10]\n",
      " [20]\n",
      " [30]\n",
      " [40]]\n",
      "1D array (same as original): [10 20 30 40]\n"
     ]
    }
   ],
   "source": [
    "print('Original array: ',array_1)\n",
    "print('Horizontal array:', array_1.reshape(1,-1))\n",
    "print('Vertical array:', array_1.reshape(-1,1))\n",
    "print('1D array (same as original):', array_1.reshape(-1,))"
   ]
  },
  {
   "cell_type": "markdown",
   "id": "b19efbca",
   "metadata": {},
   "source": [
    "Array elements can be referenced with square brackets as they are with lists in the same way as with lists. Elements can also be changed in the same way.\n",
    "\n",
    "The key difference now is how math works.\n",
    "\n",
    "**All elements can be multiplied by a single value** via:"
   ]
  },
  {
   "cell_type": "code",
   "execution_count": 65,
   "id": "1e4b1b29",
   "metadata": {},
   "outputs": [
    {
     "name": "stdout",
     "output_type": "stream",
     "text": [
      "2*array_1 = [ 320  640  960 1280]\n"
     ]
    }
   ],
   "source": [
    "print('2*array_1 =',2*array_1)"
   ]
  },
  {
   "cell_type": "markdown",
   "id": "943bff17",
   "metadata": {},
   "source": [
    "**Element-wise addition** can be done with a simple '+':"
   ]
  },
  {
   "cell_type": "code",
   "execution_count": 66,
   "id": "fd22ec6b",
   "metadata": {},
   "outputs": [
    {
     "name": "stdout",
     "output_type": "stream",
     "text": [
      "[160 320 480 640] + [1 2 3 4] = [161 322 483 644]\n"
     ]
    }
   ],
   "source": [
    "array_3 = np.array([1,2,3,4])\n",
    "array_4 = array_1+array_3\n",
    "print(array_1,'+',array_3,'=',array_4)"
   ]
  },
  {
   "cell_type": "markdown",
   "id": "84ec7462",
   "metadata": {},
   "source": [
    "Element-wise subtraction is the same.\n",
    "\n",
    "**Element-wise multiplication** can be done with a simple '*':"
   ]
  },
  {
   "cell_type": "code",
   "execution_count": 67,
   "id": "ef33aba9",
   "metadata": {},
   "outputs": [
    {
     "name": "stdout",
     "output_type": "stream",
     "text": [
      "[160 320 480 640] * [1 2 3 4] = [ 160  640 1440 2560]\n"
     ]
    }
   ],
   "source": [
    "array_5 = array_1*array_3\n",
    "print(array_1,'*',array_3,'=',array_5)"
   ]
  },
  {
   "cell_type": "markdown",
   "id": "a3d5ccff",
   "metadata": {},
   "source": [
    "A **matrix dot product** uses the **np.dot** function:"
   ]
  },
  {
   "cell_type": "code",
   "execution_count": 68,
   "id": "15ed84fd",
   "metadata": {},
   "outputs": [
    {
     "name": "stdout",
     "output_type": "stream",
     "text": [
      "[[10 20 30 40]] \n",
      "dot\n",
      " [[10]\n",
      " [20]\n",
      " [30]\n",
      " [40]] = 768000\n"
     ]
    }
   ],
   "source": [
    "array_6 = np.dot(array_1,array_1)\n",
    "print(array_1_row,'\\ndot\\n',array_1_column,'=',array_6)"
   ]
  },
  {
   "cell_type": "markdown",
   "id": "a7bc6b14",
   "metadata": {},
   "source": [
    "A matrix can be created either with **np.matrix()** or simply with **np.array()** but with two dimensions:"
   ]
  },
  {
   "cell_type": "code",
   "execution_count": 69,
   "id": "6b1f1ec5",
   "metadata": {},
   "outputs": [
    {
     "name": "stdout",
     "output_type": "stream",
     "text": [
      "2D matrix:\n",
      " [[1 2 3]\n",
      " [4 5 6]\n",
      " [7 8 9]]\n",
      "\n",
      "2D array:\n",
      " [[1 2 3]\n",
      " [4 5 6]\n",
      " [7 8 9]]\n"
     ]
    }
   ],
   "source": [
    "matrix_version = np.matrix(([1,2,3],[4,5,6],[7,8,9]))\n",
    "array_version = np.array(([1,2,3],[4,5,6],[7,8,9]))\n",
    "print('2D matrix:\\n',matrix_version)\n",
    "print('\\n2D array:\\n',array_version)"
   ]
  },
  {
   "cell_type": "markdown",
   "id": "acd78461",
   "metadata": {},
   "source": [
    "Usually an array is better to work with. The main difference is what happens with default operations, such as multiplication. With numpy arrays, multiplication accessed via \"*\" is element-wise. With matrices, the dot product occurs instead.\n",
    "\n",
    "Note that you don't need matrices to do linear algebra operations, however. np.dot(x,y) takes the dot product of x and y, while np.linalg.multi_dot([x,y,z]) takes the dot product of x, y, and z in that order."
   ]
  },
  {
   "cell_type": "code",
   "execution_count": 70,
   "id": "6c22e2d0",
   "metadata": {},
   "outputs": [
    {
     "name": "stdout",
     "output_type": "stream",
     "text": [
      "Matrix product:\n",
      " [[ 30  36  42]\n",
      " [ 66  81  96]\n",
      " [102 126 150]] \n",
      "\n",
      "Array product:\n",
      " [[ 1  4  9]\n",
      " [16 25 36]\n",
      " [49 64 81]]\n"
     ]
    }
   ],
   "source": [
    "print('Matrix product:\\n',matrix_version*matrix_version,'\\n')\n",
    "print('Array product:\\n',array_version*array_version)"
   ]
  },
  {
   "cell_type": "markdown",
   "id": "0250bcbe",
   "metadata": {},
   "source": [
    "The **number of dimensions** in an array can be found with **.dim**:"
   ]
  },
  {
   "cell_type": "code",
   "execution_count": 71,
   "id": "885863a4",
   "metadata": {},
   "outputs": [
    {
     "name": "stdout",
     "output_type": "stream",
     "text": [
      "array_1 has 1 dimensions\n",
      "matrix_version has 2 dimensions\n",
      "array_version has 2 dimensions\n"
     ]
    }
   ],
   "source": [
    "print('array_1 has',array_1.ndim,'dimensions')\n",
    "print('matrix_version has',matrix_version.ndim,'dimensions')\n",
    "print('array_version has',array_version.ndim,'dimensions')"
   ]
  },
  {
   "cell_type": "markdown",
   "id": "3dae5edb",
   "metadata": {},
   "source": [
    "The **number of elements** can be read from **.size**:"
   ]
  },
  {
   "cell_type": "code",
   "execution_count": 72,
   "id": "ba4b6de4",
   "metadata": {},
   "outputs": [
    {
     "name": "stdout",
     "output_type": "stream",
     "text": [
      "array_1 has 4 elements\n",
      "matrix_version has 9 elements\n",
      "array_version has 9 elements\n"
     ]
    }
   ],
   "source": [
    "print('array_1 has',array_1.size,'elements')\n",
    "print('matrix_version has',matrix_version.size,'elements')\n",
    "print('array_version has',array_version.size,'elements')"
   ]
  },
  {
   "cell_type": "markdown",
   "id": "0aec15fa",
   "metadata": {},
   "source": [
    "Shapes can also be accessed as they were previously:"
   ]
  },
  {
   "cell_type": "code",
   "execution_count": 73,
   "id": "a1063855",
   "metadata": {},
   "outputs": [
    {
     "name": "stdout",
     "output_type": "stream",
     "text": [
      "The shape of array_1 is (4,)\n",
      "The shape of matrix_version is (3, 3)\n",
      "The shape of array_version is (3, 3)\n"
     ]
    }
   ],
   "source": [
    "print('The shape of array_1 is',np.shape(array_1))\n",
    "print('The shape of matrix_version is',np.shape(array_version))\n",
    "print('The shape of array_version is',np.shape(array_version))"
   ]
  },
  {
   "cell_type": "markdown",
   "id": "cfce2cbb",
   "metadata": {},
   "source": [
    "Some **very convenient arrays** that can be generated include **arrays of all ones with np.ones(dim)**, **arrays of all zeros with np.zeros(dim)**, and **arrays with evenly spaced values with np.linspace(val1,val2,num=#elements):"
   ]
  },
  {
   "cell_type": "code",
   "execution_count": 76,
   "id": "a23e0e30",
   "metadata": {},
   "outputs": [
    {
     "name": "stdout",
     "output_type": "stream",
     "text": [
      "\n",
      " [[1. 1. 1. 1.]\n",
      " [1. 1. 1. 1.]\n",
      " [1. 1. 1. 1.]]\n",
      "\n",
      " [[0. 0. 0. 0.]\n",
      " [0. 0. 0. 0.]\n",
      " [0. 0. 0. 0.]]\n",
      "\n",
      " [1.  1.5 2.  2.5 3.  3.5 4.  4.5 5. ]\n"
     ]
    }
   ],
   "source": [
    "print('\\n',np.ones([3,4]))\n",
    "print('\\n',np.zeros([3,4]))\n",
    "print('\\n',np.linspace(1,5,num=9))"
   ]
  },
  {
   "cell_type": "markdown",
   "id": "321876c3",
   "metadata": {},
   "source": [
    "You can also append to numpy arrays like with lists, but it is slightly different. To add another element, you need to redefine your array using np.append(). For example, a fifth element of '6' can be added to array_1 as follows:"
   ]
  },
  {
   "cell_type": "code",
   "execution_count": 77,
   "id": "85844d83",
   "metadata": {},
   "outputs": [
    {
     "name": "stdout",
     "output_type": "stream",
     "text": [
      "\n",
      " array_1 is now [160 320 480 640   6]\n"
     ]
    }
   ],
   "source": [
    "array_1 = np.append(array_1,6)\n",
    "print('\\n array_1 is now',array_1)"
   ]
  },
  {
   "cell_type": "markdown",
   "id": "76fbf727",
   "metadata": {},
   "source": [
    "Multiple arrays can be combined with **np.concatenate()**:"
   ]
  },
  {
   "cell_type": "code",
   "execution_count": 78,
   "id": "c6bb9f49",
   "metadata": {},
   "outputs": [
    {
     "name": "stdout",
     "output_type": "stream",
     "text": [
      "\n",
      " Concatenating [160 320 480 640   6] with [10 20 30 40] gives [160 320 480 640   6  10  20  30  40]\n"
     ]
    }
   ],
   "source": [
    "print('\\n Concatenating',array_1,'with',array_2,'gives',np.concatenate((array_1,array_2)))"
   ]
  },
  {
   "cell_type": "markdown",
   "id": "7c113952",
   "metadata": {},
   "source": [
    "Notice the double parentheses; this is important. You are putting in one element consisting of two arrays, not two elements that are each arrays. **This is an easy mistake to make**.\n",
    "\n",
    "Multiple **rows** of the **same size** can be **stacked** with **np.hstack** and the same is true with **columns** and **vstack**:"
   ]
  },
  {
   "cell_type": "code",
   "execution_count": 79,
   "id": "80131fd1",
   "metadata": {},
   "outputs": [
    {
     "name": "stdout",
     "output_type": "stream",
     "text": [
      "[[10 20 30 40]] \n",
      "on\n",
      " [[20 40 60 80]] \n",
      "makes\n",
      " [[10 20 30 40]\n",
      " [20 40 60 80]]\n",
      "\n",
      " [[10 20 30 40]] \n",
      "next to\n",
      " [[20 40 60 80]] \n",
      "makes\n",
      " [[10 20 30 40 20 40 60 80]]\n",
      "\n",
      " [[10]\n",
      " [20]\n",
      " [30]\n",
      " [40]] \n",
      "next to\n",
      " [[20]\n",
      " [40]\n",
      " [60]\n",
      " [80]] \n",
      "makes\n",
      " [[10 20]\n",
      " [20 40]\n",
      " [30 60]\n",
      " [40 80]]\n"
     ]
    }
   ],
   "source": [
    "print(array_1_row,'\\non\\n',2*array_1_row,'\\nmakes\\n',np.vstack((array_1_row,2*array_1_row)))\n",
    "print('\\n',array_1_row,'\\nnext to\\n',2*array_1_row,'\\nmakes\\n',np.hstack((array_1_row,2*array_1_row)))\n",
    "print('\\n',array_1_column,'\\nnext to\\n',2*array_1_column,'\\nmakes\\n',np.hstack((array_1_column,2*array_1_column)))"
   ]
  },
  {
   "cell_type": "markdown",
   "id": "0ed9976b",
   "metadata": {},
   "source": [
    "Some final things to cover include **simple math on arrays** and **statistics**. You can add all elements together with **.sum()**, find the max value with **.max()**, find the min value with **.max()**, find the mean with **.mean()**."
   ]
  },
  {
   "cell_type": "code",
   "execution_count": 80,
   "id": "e5a149ed",
   "metadata": {},
   "outputs": [
    {
     "name": "stdout",
     "output_type": "stream",
     "text": [
      "\n",
      " array_1.sum() = 1606\n",
      "\n",
      " array_1.max() = 640\n",
      "\n",
      " array_1.min() = 6\n",
      "\n",
      " array_1.mean() = 321.2\n"
     ]
    }
   ],
   "source": [
    "print('\\n array_1.sum() =',array_1.sum())\n",
    "print('\\n array_1.max() =',array_1.max())\n",
    "print('\\n array_1.min() =',array_1.min())\n",
    "print('\\n array_1.mean() =',array_1.mean())"
   ]
  },
  {
   "cell_type": "markdown",
   "id": "b884ace2",
   "metadata": {},
   "source": [
    "Access an entire row or column with ':' instead of a specific element. For example:"
   ]
  },
  {
   "cell_type": "code",
   "execution_count": 85,
   "id": "1dcfc9a8",
   "metadata": {},
   "outputs": [
    {
     "name": "stdout",
     "output_type": "stream",
     "text": [
      "\n",
      " x_2D is\n",
      " [[1 2 3]\n",
      " [8 1 1]]\n",
      "\n",
      " The first row in x_2D is [1 2 3]\n",
      "\n",
      " The last column in x_2D is [3 1]\n"
     ]
    }
   ],
   "source": [
    "x_2D = np.array(([1,2,3],[8,1,1]))\n",
    "x_2D_row_first = x_2D[0,:]\n",
    "x_2D_column_last = x_2D[:,-1]\n",
    "print('\\n x_2D is\\n',x_2D) \n",
    "print('\\n The first row in x_2D is',x_2D_row_first)\n",
    "print('\\n The last column in x_2D is',x_2D_column_last)"
   ]
  },
  {
   "cell_type": "markdown",
   "id": "d0e00101",
   "metadata": {},
   "source": [
    "Change a numpy array to a list with .tolist():"
   ]
  },
  {
   "cell_type": "code",
   "execution_count": 86,
   "id": "ef1fccfc",
   "metadata": {},
   "outputs": [
    {
     "name": "stdout",
     "output_type": "stream",
     "text": [
      "\n",
      " numpy_ones type is <class 'numpy.ndarray'>\n",
      "\n",
      " list_ones type is <class 'list'>\n"
     ]
    }
   ],
   "source": [
    "numpy_ones = np.ones(6)\n",
    "list_ones = numpy_ones.tolist()\n",
    "print('\\n numpy_ones type is',type(numpy_ones))\n",
    "print('\\n list_ones type is',type(list_ones))"
   ]
  },
  {
   "cell_type": "markdown",
   "id": "2d32b223",
   "metadata": {},
   "source": [
    "## Pandas brief intro"
   ]
  },
  {
   "cell_type": "markdown",
   "id": "8a362d78",
   "metadata": {},
   "source": [
    "Pandas dataframes can take some time to learn but can be very useful in organizing data. The internet is your friend here, but an example of the utility can be seen by evaluating the following cells in series. These have not been annotated and are therefore up to you to interpret."
   ]
  },
  {
   "cell_type": "code",
   "execution_count": null,
   "id": "a7a04626",
   "metadata": {},
   "outputs": [],
   "source": [
    "import pandas as pd\n",
    "\n",
    "df_1 = pd.DataFrame(columns=['Time (s)','C_A (mol/L)'])\n",
    "display(df_1)"
   ]
  },
  {
   "cell_type": "code",
   "execution_count": null,
   "id": "70457fff",
   "metadata": {},
   "outputs": [],
   "source": [
    "df_1['Time (s)'] = [0,1,2,4,8]\n",
    "display(df_1)"
   ]
  },
  {
   "cell_type": "code",
   "execution_count": null,
   "id": "113580d7",
   "metadata": {},
   "outputs": [],
   "source": [
    "df_1['C_A (mol/L)'] = [10,8,6,2,0]\n",
    "display(df_1)"
   ]
  },
  {
   "cell_type": "code",
   "execution_count": null,
   "id": "0f73034a",
   "metadata": {},
   "outputs": [],
   "source": [
    "C_A0 = 10\n",
    "C_A = df_1['C_A (mol/L)'].to_numpy()\n",
    "X_A = (C_A0-C_A)/C_A0\n",
    "df_1['X_A'] = X_A\n",
    "display(df_1)"
   ]
  },
  {
   "cell_type": "code",
   "execution_count": null,
   "id": "60db3528",
   "metadata": {},
   "outputs": [],
   "source": [
    "df_2 = pd.DataFrame(columns=['Some stuff','Some other stuff'],data=[[1,2],[9,1]])\n",
    "display(df_2)\n",
    "\n",
    "with pd.ExcelWriter('Output.xlsx') as writer:  \n",
    "    df_1.to_excel(writer, sheet_name='Some random stuff')\n",
    "    df_2.to_excel(writer, sheet_name='Super random stuff')"
   ]
  },
  {
   "cell_type": "code",
   "execution_count": null,
   "id": "01309a0b",
   "metadata": {},
   "outputs": [],
   "source": [
    "df_3 = pd.read_excel('Output.xlsx',sheet_name='Super random stuff')\n",
    "display(df_3)"
   ]
  },
  {
   "cell_type": "code",
   "execution_count": null,
   "id": "f1ea92a5",
   "metadata": {},
   "outputs": [],
   "source": [
    "df_4 = df_3.drop(columns=['Unnamed: 0'])\n",
    "display(df_4)"
   ]
  },
  {
   "cell_type": "code",
   "execution_count": null,
   "id": "75d48752",
   "metadata": {},
   "outputs": [],
   "source": []
  }
 ],
 "metadata": {
  "kernelspec": {
   "display_name": "Python 3 (ipykernel)",
   "language": "python",
   "name": "python3"
  },
  "language_info": {
   "codemirror_mode": {
    "name": "ipython",
    "version": 3
   },
   "file_extension": ".py",
   "mimetype": "text/x-python",
   "name": "python",
   "nbconvert_exporter": "python",
   "pygments_lexer": "ipython3",
   "version": "3.10.9"
  }
 },
 "nbformat": 4,
 "nbformat_minor": 5
}
