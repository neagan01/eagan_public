{
 "cells": [
  {
   "cell_type": "markdown",
   "id": "484b537a",
   "metadata": {},
   "source": [
    "# Python for Chemical Reaction Engineering Part 2 - Jupyter and VSCode\n",
    "[![Open In Studio Lab](https://studiolab.sagemaker.aws/studiolab.svg)](https://studiolab.sagemaker.aws/import/github/neagan01/eagan_public/blob/master/Python_for_CRE_Part_2_-_Jupyter_and_VS_Code.ipynb)"
   ]
  },
  {
   "cell_type": "markdown",
   "id": "e38705e2",
   "metadata": {},
   "source": [
    "As noted in Part 1, there are many wais to work with Python code. Jupyter Notebooks in Visual Studio Code is the preferred method in ChBE 202."
   ]
  },
  {
   "cell_type": "markdown",
   "id": "f44ff6f4",
   "metadata": {},
   "source": [
    "## Project Jupyter"
   ]
  },
  {
   "cell_type": "markdown",
   "id": "765cbef4",
   "metadata": {},
   "source": [
    "The \"Ju\" references the \"Julia\" coding language, the \"Py\" references \"Python\" (which itself is a references to \"Monty Python\"), and \"Ter\" is a reference to \"R\" while also spelling out a cool word which is a reference to Galileo and his discovery of the Moons of Jupiter as detailed in his own (less-sophisticated) notebooks. https://jupyter.org/ \n",
    "\n",
    "We will use Jupyter to write Python codes, but (as the name suggests) you can write with a variety of languages such as Julia, which is faster than Python and better with handling memory, making it a better candidate for working with large data sets such as in  machine learning applications."
   ]
  },
  {
   "cell_type": "markdown",
   "id": "f56f0085",
   "metadata": {},
   "source": [
    "## Literate programming"
   ]
  },
  {
   "cell_type": "markdown",
   "id": "74f3c8cf",
   "metadata": {},
   "source": [
    "A Jupyter \"Notebook\" is a live document which brings together code annotation cells in the \"Markdown\" format (how this was written), code cells, and code cell outputs all in one place. This type of programming is often called \"literate\" programming because it is easier to read. Compared to a collection of simple executable .py files, this form makes it easier to understand what everything in a code is, why it is there, and what it does. This facilitates sharing of codes and ideas especially among those like me who use coding simply as one of many tools for their work (rather than a data scientist)."
   ]
  },
  {
   "cell_type": "markdown",
   "id": "e0310ee8",
   "metadata": {},
   "source": [
    "## Using Jupyter Notebooks / Interactive Python Notebooks / IPy Notebooks / .ipynb"
   ]
  },
  {
   "cell_type": "markdown",
   "id": "f1d86eb3",
   "metadata": {},
   "source": [
    "Jupyter Notebooks (originally IPy notebooks, file type .ipynb) can be used by multiple programs, with the original being the obvious \"Jupyter Notebook\" program, accessible through Anaconda or direct download. This opens directly inside an internet browser window. Some of the \"debugging\" tools are lost here, however, though they can be gained using Jupyter Notebook Extensions if you wish to install them (https://jupyter-contrib-nbextensions.readthedocs.io/en/latest/install.html).\n",
    "\n",
    "JupyterLab is the new Jupyter IDE which also operates inside an internet browser, provides a file browser, multiple tabs, and the ability to open a few different file types other than notebooks, inlcuding text files, markdown, and Python codes. You can also open a terminal. In the terminal you can then run Python files by starting with the \"python\" command. This has built-in methods to add some of the debugging utilities mentioned above. However, it can still be a bit annoying to open up and use broadly.\n",
    "\n",
    "Visual Studio Code is similar to JupyterLab but built a few years earlier by Microsoft for a wider array of capabilities and is much more broadly popular. According to Stack Overflow, it was by far the most used IDE by software developers in 2022, while Jupyter is much less frequently used. Since it is not built solely for Jupyter Notebooks it can have more hiccups but will ultimately be much easier to work with.\n",
    "\n",
    "Another interface which can be useful is that of Google Colaboratory, known also as Google Colab. With this activated in your Google account, you can render any ipynb in Google drive with this feature. This can be useful for easy code sharing."
   ]
  },
  {
   "cell_type": "markdown",
   "id": "9d9c1018",
   "metadata": {},
   "source": [
    "## Getting started with VS Code"
   ]
  },
  {
   "cell_type": "markdown",
   "id": "e0244fc6",
   "metadata": {},
   "source": [
    "Follow these steps as needed.\n",
    "\n",
    "1. Download the Anaconda distribution: https://www.anaconda.com/download/. Use all default and suggested options.\n",
    "\n",
    "2. Download Virtual Studio Code (VSCode) https://code.visualstudio.com/download. When given the choice, check the options that allow you to open files directly in VSCode (not essential, but useful).\n",
    "\n",
    "3. Open VSCode.\n",
    "\n",
    "4. Download the Python, Jupyter, and Excel Viewer extensions (the Extensions tab is on the left-hand side).\n",
    "\n",
    "5. Select your interpreter with Ctrl+Shft+P then start typing \"Python: Select Interpreter\" and choose the one with \"anaconda3\" in the path.\n",
    "\n",
    "6. If your kernel has not been selected, click on the top right corner of your window to do so. Pick the python.exe associated with Anaconda--this should have \"anaconda3\\python.exe\" at the end of the file path.\n",
    "\n",
    "7. To also configure your terminal, change the default to be the command prompt. Do so with Ctrl-Shft-P then navigate to \"Terminal: Select Default Profile\" and choose \"Command Prompt.\" This will not take immediate effect--you will have to open a new terminal for it to register. You can also manually load it via sequentially typing these two commands (with the correct username filled in): C:/Users/USERNAME/anaconda3/Scripts/activate ; conda activate base. ***If you are using a Mac, ignore this step.***\n",
    "\n",
    "*At the time of writing this, there is a glitch in the Python extension in VSCode which forces you to repeat step 5 every time you open VSCode. This can be partially fixed by going to the Python extension page within VSCode (find on the left panel or press Ctrl+Shift+X) and switching to the \"pre-release\" version.*\n",
    "\n",
    "You are now good to use VSCode."
   ]
  },
  {
   "cell_type": "markdown",
   "id": "d58d396e",
   "metadata": {},
   "source": [
    "## Cells"
   ]
  },
  {
   "cell_type": "markdown",
   "id": "a1431f2b",
   "metadata": {},
   "source": [
    "There are three main types of cells that you can write in with ipynb files: raw, markdown, and code. In VSCode, one of a few ways to do this is to click on the words in the bottom right corner of the cell that specifies the language in the cell, then change to either \"Markdown,\" \"Raw,\" or \"Python.\" This can be changed at any time and affects only the cell you are in. Markdown and code cells can be \"evaluated\" by either pressing the \"run\" button or typing \"shift + enter\" when inside the cell.\n",
    "\n",
    "One additional feature to all cells you will likely find useful is that codes can be collapsed or \"folded\" in multiple ways to hide them and move more quickly through the notebook. One way is the press on the blue line to the left of the cell - this will hide everything except the first row. Another is to toggle the arrow at the top left corner - this will hide all cells BELOW the one you collapse until you hit a cell with the same header size.\n"
   ]
  },
  {
   "cell_type": "raw",
   "id": "02024e8a",
   "metadata": {},
   "source": [
    "## Raw cells\n",
    "\n",
    "These cells will appear exactly as you write them. No formatting changes, no code execution, nothing. They are what they are and nothing more."
   ]
  },
  {
   "cell_type": "markdown",
   "id": "e3b1894e",
   "metadata": {},
   "source": [
    "## Markdown cells\n",
    "\n",
    "This is a markdown cell. It is meant for writing and uses MyST syntax which is similar to LaTeX. A general guide to the syntax can be found here: https://jupyterbook.org/en/stable/reference/cheatsheet.html. \n",
    "\n",
    "When you are \"in\" the cell, it looks like raw text. When you evaluate the cell with the arrow button or with shift-enter, the formatting is generated. It is also possible with to show a live preview of the cell in many editors. In VSCode, right-click on the header of the file you have open and select \"Split Right\" (or similar) to open an exact copy. You can type in either and the other will be updated shortly afterward.\n",
    "\n",
    "You can also embed an image, gif, video, etc. easily either from internet sources or a specified folder.\n",
    "\n",
    "Below are some simple examples of what can be done with Markdown formatting. The aforementioned documentation and Google are your best friends to otherwise figure out how to format better.\n",
    "\n",
    "Words can easily be made *italicized*, **bold**, or ***both***.\n",
    "\n",
    "Different headers can be made by starting a line with different numbers of #. One # is a primary header, ## is secondary, etc. These are useful both in formatting and in code collapse, depending on the editor you use.\n",
    "\n",
    "You can write math expressions like this: $math=numbers + fun$\n",
    "\n",
    "You can put it on a separate line like this: $$math = numbers + fun$$\n",
    "\n",
    "Here is a nonsense example of exploting syntax to write complex formulas:\n",
    "\n",
    "$$ \\dot m_{j} = \\sum_{i=0}^\\infty 3\\cdot \\biggl(1/2\\cdot \\frac{cos(\\hat y_i)}{\\theta_{i,j}^2}\\biggr)^2_{P,T,\\dot m_{k\\neq j}}$$\n"
   ]
  },
  {
   "cell_type": "code",
   "execution_count": 2,
   "id": "9729d5a2",
   "metadata": {},
   "outputs": [
    {
     "name": "stdout",
     "output_type": "stream",
     "text": [
      "40003\n"
     ]
    }
   ],
   "source": [
    "###### Code cells\n",
    "\n",
    "# This is used to write code. Text like this can be written with a # comment. More than one # can be\n",
    "# added if you wish to visibly separate parts of the code, but it will not do anything.\n",
    "\n",
    "# Math can be done like this:\n",
    "\n",
    "thing1 = 3 + 40000\n",
    "print(thing1)\n",
    "\n",
    "# To run the cell you can first enter it and the either click the run button or press shift-enter.\n",
    "# Alternatively you can press a button that runs all cells or one that restarts the kernel (dump\n",
    "# all stored information) and run all.\n",
    "\n",
    "# Note the little number to the top left of the cell. This is a counter for cell executions. If \n",
    "# you run this again, the number will increase. If you then run a different cell and run this one\n",
    "# again, the number will increase by 2--it only updates when it has been run. The highest number\n",
    "# therefore indicates the cell run most recently\n",
    "\n",
    "# Multiple lines can be commented out like this:\n",
    "'''\n",
    "This is commented out\n",
    "large blocks of text\n",
    "'''\n",
    "a = 4\n",
    "# If nothing comes after the comment out, the lines will be displayed in the output\n",
    "\n",
    "# When troubleshooting code you can also simply type 'break' and artificially terminate\n",
    "# wherever you like. It will throw a warning. It is commented out below but can be uncommented\n",
    "\n",
    "#break"
   ]
  },
  {
   "cell_type": "markdown",
   "id": "b073064d",
   "metadata": {},
   "source": [
    "## Communication between cells\n",
    "\n",
    "When a cell has been evaluated, variable values are stored and can be access in other cells. These values are stored in the **kernel** of the notebook. You can remove all stored values by **resetting the kernel**, an option in the toolbar at the top. You can also press the button to reset the kernel and evaluate all cells, which may or may not be a good idea.\n",
    "\n",
    "The same follows for package importing. If you import a package in the fifth cell and then run the first cell, it will know that the package is available. It can be tricky to keep track of this, however, so sometimes it is better to import packages within cells. Sometimes, however, it is better for clarity to have an \"import\" cell at the top of the notebook which you evaluate to import values.\n",
    "\n",
    "For example, reset the kernel. Then evaluate \"Cell A\" below. This will throw an error because \"x\" has not been defined. Then evaluate \"Cell B\" and evaluate \"Cell A\" again. Now it correctly prints the value.\n",
    "\n",
    "In some editors like VSCode you can see what values are assigned in a variable explorer. Here it is likely labeled \"Jupyter\" at the bottom of your screen."
   ]
  },
  {
   "cell_type": "code",
   "execution_count": 4,
   "id": "68baee65",
   "metadata": {},
   "outputs": [
    {
     "name": "stdout",
     "output_type": "stream",
     "text": [
      "4\n"
     ]
    }
   ],
   "source": [
    "###### Cell A\n",
    "\n",
    "print(x)"
   ]
  },
  {
   "cell_type": "code",
   "execution_count": 3,
   "id": "a59dd546",
   "metadata": {},
   "outputs": [],
   "source": [
    "###### Cell B\n",
    "\n",
    "x = 4"
   ]
  },
  {
   "cell_type": "markdown",
   "id": "503de6c9",
   "metadata": {
    "jp-MarkdownHeadingCollapsed": true,
    "tags": []
   },
   "source": [
    "## Deleting cells\n",
    "\n",
    "Deleting cells is easy. click to the left of the cell to 'select' it, then type 'dd' but be careful. Even though this can be undone with Ctrl-z, it may be done by accident and missed."
   ]
  },
  {
   "cell_type": "markdown",
   "id": "584f3025",
   "metadata": {},
   "source": [
    "## Exporting to PDF"
   ]
  },
  {
   "cell_type": "markdown",
   "id": "3268ffcb",
   "metadata": {},
   "source": [
    "Files can be exported as PDFs in one of two ways: indirectly via HTML or directly with the assistance of a TeX distribution. The first is simpler, but the latter looks better.\n",
    "\n",
    "In the top bar that reads \"Code / Markdown / Run All \" etc., directly click on \"Export\" if visible. If not visible, click on the three dots at the end, and then on \"Export\". Choose \"HTML\" or \"PDF.\"\n",
    "\n",
    "**HTML method**\n",
    "\n",
    "First export to HTML. Then open the HTML file in a web browser. In the web browser, print the HTML file and select \"Save as PDF\" or something analagous as the printer.\n",
    "\n",
    "**TeX method**\n",
    "\n",
    "This method requires a TeX distribution to be installed and can be a little finicky. First try exporting to PDF without installing anything. If it does not work, an error will show up in the corner which says something like, \"Export failed. Please check the \"Jupyter\" output panel for further details.\" Click on this or go to the output panel. It will likely say something about not having TeX. If so, go to this link and install a TeX distribution: https://nbconvert.readthedocs.io/en/latest/install.html#installing-tex. Be careful not to click on a rogue \"Download\" button along the way; make sure you install the software itself. If on a PC, this is your best direct link: https://miktex.org/download. It is up to you whether you install it for all users or just one; I followed the recommendation of installing it for one only. When installing set your preferred paper size to \"Letter\" for convenience (not crucial). After installing, update your distribution, restart VSCode, and try again.\n",
    "\n",
    "If it does not work a second time, you may need to install \"pandoc.\" Do so here: https://pandoc.org/installing.html. If downloading to Windows, you will select the \"msi\" installer file. After installing, restart VSCode and try again. You may be prompted to install a whole bunch of additional packages. Deselect \"show this dialogue\" and install when prompted.\n",
    "\n",
    "If it still does not work, I do not currently know how to resolve the issue."
   ]
  },
  {
   "cell_type": "markdown",
   "id": "936b8fd9",
   "metadata": {},
   "source": [
    "## More tips"
   ]
  },
  {
   "cell_type": "markdown",
   "id": "003a1953",
   "metadata": {},
   "source": [
    "*Changing file explorer sorting* \\\n",
    "By default items are sorted alphabetically. To change this to \"modified date\" or other options, open the workspace settings through ctrl+shft+p, \"Preferences: Open Workspace Settings,\" Features > Explorer, Sort Order\n",
    "\n",
    "*Additional packages* \\\n",
    "**Plotly**: Interactive plotting \\\n",
    "**Kaleido**: Image generation (especially with Plotly). If the code gets hung during image generation, try installing an older version of the software with: pip install kaleido==0.1.0post1"
   ]
  },
  {
   "cell_type": "code",
   "execution_count": null,
   "id": "32febf4a",
   "metadata": {},
   "outputs": [],
   "source": []
  }
 ],
 "metadata": {
  "kernelspec": {
   "display_name": "Python 3 (ipykernel)",
   "language": "python",
   "name": "python3"
  },
  "language_info": {
   "codemirror_mode": {
    "name": "ipython",
    "version": 3
   },
   "file_extension": ".py",
   "mimetype": "text/x-python",
   "name": "python",
   "nbconvert_exporter": "python",
   "pygments_lexer": "ipython3",
   "version": "3.10.9"
  },
  "varInspector": {
   "cols": {
    "lenName": 16,
    "lenType": 16,
    "lenVar": 40
   },
   "kernels_config": {
    "python": {
     "delete_cmd_postfix": "",
     "delete_cmd_prefix": "del ",
     "library": "var_list.py",
     "varRefreshCmd": "print(var_dic_list())"
    },
    "r": {
     "delete_cmd_postfix": ") ",
     "delete_cmd_prefix": "rm(",
     "library": "var_list.r",
     "varRefreshCmd": "cat(var_dic_list()) "
    }
   },
   "types_to_exclude": [
    "module",
    "function",
    "builtin_function_or_method",
    "instance",
    "_Feature"
   ],
   "window_display": false
  }
 },
 "nbformat": 4,
 "nbformat_minor": 5
}
