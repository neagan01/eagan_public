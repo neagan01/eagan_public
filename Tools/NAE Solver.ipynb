{
 "cells": [
  {
   "cell_type": "markdown",
   "metadata": {},
   "source": [
    "# Non-linear algebraic equations (NAE) solver\n",
    "\n",
    "This is an example code for solving systems of non-linear equations with Python in Jupyter Notebooks.\n",
    "\n",
    "In this example there are two equations:\n",
    "\n",
    "$$C_{A0}=\\frac{y_{A0}\\cdot P}{R\\cdot T}$$\n",
    "\n",
    "$$X_{eq}=\\biggl(\\frac{K_C\\cdot(1-X_{eq})}{4\\cdot C_{A0}}\\biggr)^{0.5}$$\n",
    "\n",
    "and two unknowns:\n",
    "\n",
    "$$C_{A0}$$\n",
    "\n",
    "$$X_{eq}$$\n",
    "\n",
    "The equations do not have to have the unknown variable isolated, they only have to be reorganized to equal 0."
   ]
  },
  {
   "cell_type": "code",
   "execution_count": 1,
   "metadata": {},
   "outputs": [
    {
     "name": "stdout",
     "output_type": "stream",
     "text": [
      "Zerocheck:  [0.0, 0.0]\n"
     ]
    },
    {
     "data": {
      "text/html": [
       "<div>\n",
       "<style scoped>\n",
       "    .dataframe tbody tr th:only-of-type {\n",
       "        vertical-align: middle;\n",
       "    }\n",
       "\n",
       "    .dataframe tbody tr th {\n",
       "        vertical-align: top;\n",
       "    }\n",
       "\n",
       "    .dataframe thead th {\n",
       "        text-align: right;\n",
       "    }\n",
       "</style>\n",
       "<table border=\"1\" class=\"dataframe\">\n",
       "  <thead>\n",
       "    <tr style=\"text-align: right;\">\n",
       "      <th></th>\n",
       "      <th>Variables</th>\n",
       "      <th>Values</th>\n",
       "    </tr>\n",
       "  </thead>\n",
       "  <tbody>\n",
       "    <tr>\n",
       "      <th>0</th>\n",
       "      <td>Var 1</td>\n",
       "      <td>0.358680</td>\n",
       "    </tr>\n",
       "    <tr>\n",
       "      <th>1</th>\n",
       "      <td>Var 2</td>\n",
       "      <td>0.310113</td>\n",
       "    </tr>\n",
       "  </tbody>\n",
       "</table>\n",
       "</div>"
      ],
      "text/plain": [
       "  Variables    Values\n",
       "0     Var 1  0.358680\n",
       "1     Var 2  0.310113"
      ]
     },
     "execution_count": 1,
     "metadata": {},
     "output_type": "execute_result"
    }
   ],
   "source": [
    "########## Non-linear system of equations solver ##########\n",
    "\n",
    "###### Import packages\n",
    "\n",
    "import numpy as np\n",
    "import pandas as pd\n",
    "import scipy.optimize as opt\n",
    "\n",
    "###### Specify known values\n",
    "\n",
    "### Constants\n",
    "Kc  = 0.2      # mol / L\n",
    "yA_0 = 1.0     # mol / mol\n",
    "P   = 10.0      # atm\n",
    "R   = 0.082    # atm L / mol K\n",
    "T   = 340      # K\n",
    "\n",
    "###### Define system of equations\n",
    "\n",
    "def alg(U):\n",
    "    \n",
    "    ### Redefine inputs\n",
    "    CA0 = U[0]\n",
    "    Xe = U[1]\n",
    "    \n",
    "    ### Define equations\n",
    "    setzero = np.zeros(len(U))\n",
    "    setzero[0] = CA0-yA_0*P/R/T\n",
    "    setzero[1] = Xe - (Kc*(1-Xe)/(4*CA0))**0.5\n",
    "    \n",
    "    ### Reorganize list to fit required dimensions \n",
    "    setzero = np.array(setzero).tolist()\n",
    "    \n",
    "    return setzero\n",
    "\n",
    "###### Solve based on initial guesses\n",
    "\n",
    "### Initial guesses\n",
    "varguess = [0.5,0.5]\n",
    "\n",
    "### Solver\n",
    "U = opt.fsolve(alg,varguess)   # Enter function vollowed by variable guesses\n",
    "U = np.array(U)                # Convert to numpy array for convenience\n",
    "\n",
    "### Verify that solution was achieved\n",
    "zerocheck = alg(U)\n",
    "print(\"Zerocheck: \",zerocheck)\n",
    "\n",
    "### Save results in dataframe\n",
    "soln = pd.DataFrame(['Var 1','Var 2'],columns = ['Variables'])\n",
    "soln[['Values']] = pd.DataFrame(U)\n",
    "soln"
   ]
  },
  {
   "cell_type": "code",
   "execution_count": null,
   "metadata": {},
   "outputs": [],
   "source": []
  }
 ],
 "metadata": {
  "kernelspec": {
   "display_name": "Python 3",
   "language": "python",
   "name": "python3"
  },
  "language_info": {
   "codemirror_mode": {
    "name": "ipython",
    "version": 3
   },
   "file_extension": ".py",
   "mimetype": "text/x-python",
   "name": "python",
   "nbconvert_exporter": "python",
   "pygments_lexer": "ipython3",
   "version": "3.7.6"
  }
 },
 "nbformat": 4,
 "nbformat_minor": 5
}
