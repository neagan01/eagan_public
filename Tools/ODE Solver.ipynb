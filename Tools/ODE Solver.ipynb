{
 "cells": [
  {
   "cell_type": "markdown",
   "metadata": {},
   "source": [
    "# Ordinary Differential Equations (ODE) Solver "
   ]
  },
  {
   "cell_type": "markdown",
   "id": "8159b423",
   "metadata": {},
   "source": [
    "This is an example code for solving systems of ordinary differential equations with Python in IPy/Jupyter Notebooks.\n",
    "\n",
    "The solution below is to this problem:\n",
    "\n",
    "$$\\frac{dA}{dt} = c_1 - c_2 \\cdot A^{0.5}$$\n",
    "$$\\frac{dB}{dt} = c_2 \\cdot A^{0.5}$$\n",
    "\n",
    "$c_1 = 1 \\ s^{-1}; c_2 = 0.2 \\ s^{-1}$\n",
    "\n",
    "$t_0 = 0 \\ s; t_f = 10 \\ s$\n",
    "\n",
    "$A_0 = 5 ; B_0 = 1$\n"
   ]
  },
  {
   "cell_type": "code",
   "execution_count": 1,
   "metadata": {
    "collapsed": true,
    "jupyter": {
     "outputs_hidden": true
    },
    "tags": []
   },
   "outputs": [
    {
     "name": "stdout",
     "output_type": "stream",
     "text": [
      "     Time (s)  A (units)  B (units)\n",
      "0         0.0   5.000000   1.000000\n",
      "1         0.1   5.055155   1.044845\n",
      "2         0.2   5.110066   1.089934\n",
      "3         0.3   5.164734   1.135266\n",
      "4         0.4   5.219163   1.180837\n",
      "..        ...        ...        ...\n",
      "96        9.6   9.418156   6.181844\n",
      "97        9.7   9.456717   6.243283\n",
      "98        9.8   9.495153   6.304847\n",
      "99        9.9   9.533464   6.366536\n",
      "100      10.0   9.571650   6.428350\n",
      "\n",
      "[101 rows x 3 columns]\n"
     ]
    },
    {
     "data": {
      "image/png": "[encoded data removed]",
      "text/plain": [
       "<Figure size 640x480 with 2 Axes>"
      ]
     },
     "metadata": {},
     "output_type": "display_data"
    }
   ],
   "source": [
    "########## Ordinary differential equations system solver ##########\n",
    "\n",
    "###### 1. Import packages\n",
    "import numpy as np\n",
    "import matplotlib.pyplot as plt\n",
    "from scipy.integrate import solve_ivp\n",
    "import pandas as pd\n",
    "\n",
    "###### 2. Specify known values\n",
    "c1 = 1\n",
    "c2 = 0.2\n",
    "\n",
    "###### 2. Set initial conditions of dependent variables U and integration limits of independent variable t \n",
    "U0 = [5,1] # In this example U0[0] is variable A and U0[1] is variable B\n",
    "tlim = (0,10) # This integrates from t0 = 0 to tf = 10\n",
    "tlist = np.linspace(tlim[0],tlim[1],num=101) # Not essential--specifies intervals along tlim to store U values\n",
    "\n",
    "###### 3. Define differential equations along with additional required calculations\n",
    "\n",
    "def diff(t,U):\n",
    "    \n",
    "    # Assign values to inputs if desired\n",
    "    A = U[0]\n",
    "    B = U[1]\n",
    "    \n",
    "    # Define equations\n",
    "    dU=np.zeros(len(U))\n",
    "    dU[0] = c1 - c2 * A**0.5\n",
    "    dU[1] = c2 * A**0.5\n",
    "    \n",
    "    # Reorganize list to fit required dimensions \n",
    "    dU = np.array(dU).tolist()\n",
    "    \n",
    "    return dU\n",
    "\n",
    "###### Integrate\n",
    "\n",
    "soln = solve_ivp(diff,tlim,U0,t_eval=tlist)\n",
    "\n",
    "### Obtain output dependent variable array U and independent variable array t\n",
    "\n",
    "U = soln.y.T # T makes transpose; not essential but easy for input to dataframe\n",
    "t = soln.t\n",
    "\n",
    "A = U[:,0] # Define individual variables within U if desired\n",
    "B = U[:,1]\n",
    "\n",
    "### Define pandas dataframe with outputs\n",
    "\n",
    "soln_df = pd.DataFrame(t,columns = ['Time (s)'])\n",
    "soln_df[['A (units)','B (units)']] = pd.DataFrame(U)\n",
    "\n",
    "### Save dataframe to a csv\n",
    "soln_df.to_csv('ODE_solver_output.csv')\n",
    "\n",
    "### Report dataframe\n",
    "print(soln_df)\n",
    "\n",
    "### Plotting the output with subplots\n",
    "fig = plt.figure()\n",
    "ax1 = plt.subplot(221) # A and B vs time\n",
    "ax2 = plt.subplot(222) # A vs B\n",
    "\n",
    "ax1.plot(t,A,'--b')\n",
    "ax1.plot(t,B,':g')\n",
    "ax1.set_xlabel('Time (s)')\n",
    "ax1.set_ylabel('A or B (units)')\n",
    "#ax1.set_xlim([0,13])\n",
    "#ax1.set_ylim([0,5])\n",
    "ax1.legend(['A','B'])\n",
    "\n",
    "ax2.plot(B,A,'-.k')\n",
    "ax2.set_xlabel('B (units)')\n",
    "ax2.set_ylabel('A (units)')\n",
    "\n",
    "fig.tight_layout()\n",
    "plt.show()"
   ]
  },
  {
   "cell_type": "code",
   "execution_count": 2,
   "metadata": {},
   "outputs": [
    {
     "name": "stdout",
     "output_type": "stream",
     "text": [
      "  message: The solver successfully reached the end of the integration interval.\n",
      "  success: True\n",
      "   status: 0\n",
      "        t: [ 0.000e+00  1.000e-01 ...  9.900e+00  1.000e+01]\n",
      "        y: [[ 5.000e+00  5.055e+00 ...  9.533e+00  9.572e+00]\n",
      "            [ 1.000e+00  1.045e+00 ...  6.367e+00  6.428e+00]]\n",
      "      sol: None\n",
      " t_events: None\n",
      " y_events: None\n",
      "     nfev: 20\n",
      "     njev: 0\n",
      "      nlu: 0\n"
     ]
    }
   ],
   "source": [
    "print(soln)"
   ]
  },
  {
   "cell_type": "code",
   "execution_count": null,
   "id": "ae0f55e3",
   "metadata": {},
   "outputs": [],
   "source": []
  }
 ],
 "metadata": {
  "kernelspec": {
   "display_name": "Python 3",
   "language": "python",
   "name": "python3"
  },
  "language_info": {
   "codemirror_mode": {
    "name": "ipython",
    "version": 3
   },
   "file_extension": ".py",
   "mimetype": "text/x-python",
   "name": "python",
   "nbconvert_exporter": "python",
   "pygments_lexer": "ipython3",
   "version": "3.10.9"
  }
 },
 "nbformat": 4,
 "nbformat_minor": 5
}
