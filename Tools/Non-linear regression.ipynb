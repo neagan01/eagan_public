{
 "cells": [
  {
   "cell_type": "markdown",
   "metadata": {},
   "source": [
    "# Non-linear Regression\n",
    "\n",
    "This is a general code for performing non-linear regression to a dataset.\n",
    "\n",
    "The \"model\" being fit here is:\n",
    "\n",
    "$$ r = \\frac{\\beta_1 \\cdot C_B - C_C / \\beta_5}{1+\\beta_2 \\cdot C_A + \\beta_3 \\cdot C_B + \\beta_4 \\cdot C_C}$$\n",
    "\n",
    "The \"x\" input values are $C_A$, $C_B$, and $C_C$. Here we have lists of these values - each entry is for a different reaction. **Technically** we are fitting **initial** rates with **initial** concentrations here.\n",
    "\n",
    "The \"y\" output we are fitting is $r$.\n",
    "\n",
    "The parameters we are actually fitting are the $\\beta_i$ values."
   ]
  },
  {
   "cell_type": "code",
   "execution_count": 1,
   "metadata": {},
   "outputs": [],
   "source": [
    "##### 1. Import packages\n",
    "import numpy as np\n",
    "import pandas as pd\n",
    "import matplotlib.pyplot as plt\n",
    "from scipy.optimize import curve_fit\n",
    "from scipy.stats.distributions import t as tdist"
   ]
  },
  {
   "cell_type": "code",
   "execution_count": 2,
   "metadata": {
    "code_folding": []
   },
   "outputs": [],
   "source": [
    "##### 2. Model\n",
    "def model(x,*parameters):\n",
    "    \n",
    "    # Indepdendent variables\n",
    "    CA = x[0,:]\n",
    "    CB = x[1,:]\n",
    "    CC = x[2,:]\n",
    "    ndtps = len(CA)\n",
    "    \n",
    "    # Parameters to be fit\n",
    "    b1 = parameters[0]\n",
    "    b2 = parameters[1]\n",
    "    b3 = parameters[2]\n",
    "    b4 = parameters[3]\n",
    "    b5 = parameters[4]\n",
    "    \n",
    "    # Calculate output value for each data point based on a model\n",
    "    rate_model = np.zeros(ndpts)\n",
    "    for i in range(ndpts):\n",
    "        rate_model[i] = (b1*CB[i]-CC[i]/b5)/(1+b2*CA[i]+b3*CB[i]+b4*CC[i])  # Manually write the rate expression\n",
    "    return rate_model"
   ]
  },
  {
   "cell_type": "code",
   "execution_count": 3,
   "metadata": {
    "code_folding": []
   },
   "outputs": [],
   "source": [
    "##### 3. Enter fitting data\n",
    "\n",
    "rate_exp = [8.55,3.79,4.82,0.02,2.75,14.39,2.54,4.35,13,8.5,0.05,11.32,3.13]\n",
    "CA_exp = [470,285,470,470,470,100,100,470,100,100,100,285,285]\n",
    "CB_exp = [300,80,300,80,80,190,80,190,300,300,80,300,190]\n",
    "CC_exp = [10,10,120,120,10,10,65,65,54,120,120,10,120]\n",
    "\n",
    "ndpts = len(rate_exp)"
   ]
  },
  {
   "cell_type": "code",
   "execution_count": 4,
   "metadata": {
    "code_folding": [],
    "collapsed": true
   },
   "outputs": [
    {
     "name": "stdout",
     "output_type": "stream",
     "text": [
      "SSR = 2.989e-01\n",
      "\n",
      "     Value  95% CI Half Width  95% CI Half Width Rel %\n",
      "b1  1.253              2.000                  159.633\n",
      "b2  0.063              0.100                  160.033\n",
      "b3  0.040              0.071                  177.858\n",
      "b4  0.112              0.173                  154.188\n",
      "b5  1.191              1.929                  161.948 \n",
      "\n"
     ]
    }
   ],
   "source": [
    "## Run fitting algorithm\n",
    "\n",
    "# Parameter guesses\n",
    "b1_g = 1\n",
    "b2_g = 0.1\n",
    "b3_g = 0.1\n",
    "b4_g = 0.1\n",
    "b5_g = 1\n",
    "guess = [b1_g,b2_g,b3_g,b4_g,b5_g]\n",
    "npars = len(guess)\n",
    "\n",
    "# Regression\n",
    "xvars = np.array([CA_exp,CB_exp,CC_exp])\n",
    "popt,pcov = curve_fit(model,xvars,rate_exp,guess,method='lm')\n",
    "\n",
    "# Confidence intervals\n",
    "alpha = 0.05 # 95% confidence interval\n",
    "dof = max(0,ndpts-npars) # number of degrees of freedom\n",
    "\n",
    "tval = tdist.ppf(1.0-alpha/2.0,dof) # student t value for the dof and confidence level\n",
    "\n",
    "ci = np.zeros([npars,2])\n",
    "for i,p,var in zip(range(ndpts),popt,np.diag(pcov)):\n",
    "    sigma = var**0.5\n",
    "    ci[i,:] = [p-sigma*tval,p+sigma*tval]\n",
    "ci_width = ci[:,1]-ci[:,0]\n",
    "\n",
    "# Create output dataframe\n",
    "param_names = ['b1','b2','b3','b4','b5']\n",
    "b1,b2,b3,b4,b5 = popt\n",
    "soln = pd.DataFrame(popt,index=param_names,columns=['Value'])\n",
    "soln['95% CI Half Width'] = ci_width/2\n",
    "soln['95% CI Half Width Rel %'] = ci_width/2/popt*100\n",
    "\n",
    "# Generate matrix containing simulated rates and calculate the sum of squared residuals (ssr)\n",
    "rate_predict = np.zeros(ndpts)\n",
    "ssr = 0\n",
    "for i in range(ndpts):\n",
    "    rate_predict[i]=(b1*CB_exp[i]-CC_exp[i]/b5)/(1+b2*CA_exp[i]+b3*CB_exp[i]+b4*CC_exp[i])\n",
    "    sqr_resid = (rate_predict[i]-rate_exp[i])**2\n",
    "    ssr = ssr + sqr_resid\n",
    "print('SSR = ' + \"{:.3e}\".format(ssr))\n",
    "\n",
    "pd.options.display.float_format = \"{:,.3f}\".format\n",
    "print('\\n', soln, '\\n')\n"
   ]
  },
  {
   "cell_type": "code",
   "execution_count": 5,
   "metadata": {
    "code_folding": [],
    "collapsed": true
   },
   "outputs": [
    {
     "data": {
      "image/png": "[encoded data removed]",
      "text/plain": [
       "<Figure size 640x480 with 1 Axes>"
      ]
     },
     "metadata": {},
     "output_type": "display_data"
    }
   ],
   "source": [
    "## Parity plots\n",
    "\n",
    "# Parity line\n",
    "x_parity = [min([min(rate_exp),min(rate_predict)]),max([max(rate_exp),max(rate_predict)])]\n",
    "y_parity = [min([min(rate_exp),min(rate_predict)]),max([max(rate_exp),max(rate_predict)])]\n",
    "    \n",
    "# Plot data\n",
    "fig = plt.figure()\n",
    "ax1 = plt.subplot(111)\n",
    "\n",
    "ax1.plot(rate_exp,rate_predict,'ob',mfc='none')\n",
    "ax1.plot(x_parity,y_parity,'--b')\n",
    "ax1.set_xlabel('Experimental Rate')\n",
    "ax1.set_ylabel('Predicted Rate')\n",
    "\n",
    "fig.tight_layout()\n",
    "\n",
    "plt.show()"
   ]
  },
  {
   "cell_type": "markdown",
   "metadata": {},
   "source": [
    "## Batch reactor conversion fitting\n",
    "\n",
    "Used to fit oxidation data with initial transient"
   ]
  },
  {
   "cell_type": "code",
   "execution_count": 45,
   "metadata": {
    "code_folding": []
   },
   "outputs": [
    {
     "name": "stdout",
     "output_type": "stream",
     "text": [
      "\n",
      "        Value  95% CI Half Width  95% CI Half Width Rel %\n",
      "t0 1.660e+00          4.306e-01                2.593e+01\n",
      "kp 7.715e-02          1.164e-02                1.509e+01 \n",
      "\n"
     ]
    },
    {
     "data": {
      "image/png": "[encoded data removed]",
      "text/plain": [
       "<Figure size 640x480 with 1 Axes>"
      ]
     },
     "metadata": {},
     "output_type": "display_data"
    }
   ],
   "source": [
    "###### 1. Model\n",
    "def model(x,*parameters):\n",
    "    \n",
    "    ### Independent variables\n",
    "    t = x\n",
    "\n",
    "    ### Parameters to be fit\n",
    "    t0 = parameters[0]\n",
    "    kp = parameters[1]\n",
    "    \n",
    "    ### Calculate output value for each data point based on a model\n",
    "    y = np.zeros(ndpts)\n",
    "    for i,val in enumerate(t):\n",
    "        if t[i] <= t0:\n",
    "            y[i] = 0\n",
    "        else:\n",
    "            y[i] = -kp * mcat / V * (t[i] - t0)    \n",
    "    \n",
    "    return y\n",
    "\n",
    "###### 2. Experimental data\n",
    "\n",
    "XA_expt = XA_seq\n",
    "t_expt  = np.array([0,0.083333333,0.25,0.5,1,2,4,6])\n",
    "mcat   = 0.1\n",
    "V      = 30/1000\n",
    "\n",
    "y_expt = np.log(1-XA_expt/100)\n",
    "ndpts = len(y_expt)\n",
    "\n",
    "###### 3. Parameter guesses\n",
    "t0_g = 0.5\n",
    "kp_g = 0.1\n",
    "guess = [t0_g,kp_g]\n",
    "npars = len(guess)\n",
    "\n",
    "###### 4. Regression\n",
    "popt,pcov = curve_fit(model,t_expt,y_expt,guess,method='lm')\n",
    "\n",
    "### Confidence intervals\n",
    "alpha = 0.05 # 95% confidence interval\n",
    "dof = max(0,ndpts-npars) # number of degrees of freedom\n",
    "\n",
    "tval = tdist.ppf(1.0-alpha/2.0,dof) # student t value for the dof and confidence level\n",
    "\n",
    "ci = np.zeros([npars,2])\n",
    "for i,p,var in zip(range(ndpts),popt,np.diag(pcov)):\n",
    "    sigma = var**0.5\n",
    "    ci[i,:] = [p-sigma*tval,p+sigma*tval]\n",
    "ci_width = ci[:,1]-ci[:,0]\n",
    "\n",
    "### Create output dataframe\n",
    "param_names = ['t0','kp']\n",
    "t0,kp = popt\n",
    "soln = pd.DataFrame(popt,index=param_names,columns=['Value'])\n",
    "soln['95% CI Half Width'] = ci_width/2\n",
    "soln['95% CI Half Width Rel %'] = ci_width/2/popt*100\n",
    "\n",
    "pd.options.display.float_format = \"{:,.3e}\".format\n",
    "print('\\n', soln, '\\n')\n",
    "\n",
    "\n",
    "## Parity plots\n",
    "\n",
    "XA_predict = 100 * (1-np.exp(model(t_expt,*popt)))\n",
    "\n",
    "# Parity line\n",
    "x_parity = [min([min(XA_expt),min(XA_predict)]),max([max(XA_expt),max(XA_predict)])]\n",
    "y_parity = [min([min(XA_expt),min(XA_predict)]),max([max(XA_expt),max(XA_predict)])]\n",
    "    \n",
    "# Plot data\n",
    "fig = plt.figure()\n",
    "ax1 = plt.subplot(111)\n",
    "\n",
    "ax1.plot(XA_expt,XA_predict,'ob',mfc='none')\n",
    "ax1.plot(x_parity,y_parity,'--b')\n",
    "ax1.set_xlabel('Experiment')\n",
    "ax1.set_ylabel('Model')\n",
    "\n",
    "fig.tight_layout()\n",
    "\n",
    "plt.show()"
   ]
  },
  {
   "cell_type": "code",
   "execution_count": 44,
   "metadata": {},
   "outputs": [],
   "source": [
    "XA_Au_SiO2   = np.array([0,0,0,0,2.823543655,4.355452154,8.771968251,22.35485046])\n",
    "XA_PdAu_SiO2 = np.array([0,0,0,0,1.898775994,7.348941705,21.27465065,46.60708032])\n",
    "XA_Au_MgO    = np.array([0,0,0,0,3.288393782,8.588082902,25.68674481,40.48549099])\n",
    "XA_PdAu_MgO  = np.array([0,0,0,1.736372271,7.516955249,20.54429715,49.51031231,68.35636984])\n",
    "XA_MgO       = np.array([0,0,0,0,0,5.621878653,6.596472558,6.938541862])\n",
    "XA_mix       = np.array([0,0,1.344341005,4.254123955,10.55963898,30.66100835,61.26200553,77.62967024])\n",
    "XA_seq       = np.array([0,0,0,0,3.3698439,12.18638389,40.33438296,68.60792137])"
   ]
  },
  {
   "cell_type": "code",
   "execution_count": null,
   "metadata": {},
   "outputs": [],
   "source": []
  }
 ],
 "metadata": {
  "kernelspec": {
   "display_name": "Python 3",
   "language": "python",
   "name": "python3"
  },
  "language_info": {
   "codemirror_mode": {
    "name": "ipython",
    "version": 3
   },
   "file_extension": ".py",
   "mimetype": "text/x-python",
   "name": "python",
   "nbconvert_exporter": "python",
   "pygments_lexer": "ipython3",
   "version": "3.7.6"
  },
  "varInspector": {
   "cols": {
    "lenName": 16,
    "lenType": 16,
    "lenVar": 40
   },
   "kernels_config": {
    "python": {
     "delete_cmd_postfix": "",
     "delete_cmd_prefix": "del ",
     "library": "var_list.py",
     "varRefreshCmd": "print(var_dic_list())"
    },
    "r": {
     "delete_cmd_postfix": ") ",
     "delete_cmd_prefix": "rm(",
     "library": "var_list.r",
     "varRefreshCmd": "cat(var_dic_list()) "
    }
   },
   "types_to_exclude": [
    "module",
    "function",
    "builtin_function_or_method",
    "instance",
    "_Feature"
   ],
   "window_display": false
  }
 },
 "nbformat": 4,
 "nbformat_minor": 4
}
